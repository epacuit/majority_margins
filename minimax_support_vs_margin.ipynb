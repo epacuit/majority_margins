{
 "cells": [
  {
   "cell_type": "markdown",
   "metadata": {},
   "source": [
    "# Percent of difference between Minimax using Margin and Support"
   ]
  },
  {
   "cell_type": "code",
   "execution_count": 46,
   "metadata": {},
   "outputs": [],
   "source": [
    "from pref_voting.voting_methods import *\n",
    "from pref_voting.profiles_with_ties import ProfileWithTies\n",
    "from tqdm.notebook import tqdm\n",
    "from zipfile import ZipFile\n",
    "import glob\n",
    "import io"
   ]
  },
  {
   "cell_type": "markdown",
   "metadata": {},
   "source": [
    "## Stable Voting Database  "
   ]
  },
  {
   "cell_type": "code",
   "execution_count": 47,
   "metadata": {},
   "outputs": [
    {
     "data": {
      "application/vnd.jupyter.widget-view+json": {
       "model_id": "b736afef7fbe448c8df5ed6976389a53",
       "version_major": 2,
       "version_minor": 0
      },
      "text/plain": [
       "  0%|          | 0/657 [00:00<?, ?it/s]"
      ]
     },
     "metadata": {},
     "output_type": "display_data"
    },
    {
     "name": "stdout",
     "output_type": "stream",
     "text": [
      "Total number of elections:  657\n",
      "4 out of 133:  0.03007518796992481\n"
     ]
    }
   ],
   "source": [
    "profiles = [ProfileWithTies.read(fname) for fname in glob.glob('real_elections/stable_voting_dataset/*')]\n",
    "\n",
    "num_diff = 0\n",
    "num_no_cw = 0\n",
    "for prof in tqdm(profiles): \n",
    "    prof.use_extended_strict_preference()\n",
    "    cw = prof.condorcet_winner()\n",
    "    if cw is not None:\n",
    "        continue\n",
    "    num_no_cw += 1\n",
    "    minimax_ws = minimax(prof)\n",
    "    minimax_ws_support = minimax(prof, strength_function=prof.support) \n",
    "    if minimax_ws != minimax_ws_support:\n",
    "        num_diff += 1\n",
    "\n",
    "print(\"Total number of elections: \", len(profiles)) \n",
    "print(f\"{num_diff} out of {num_no_cw}: \", num_diff/num_no_cw)\n"
   ]
  },
  {
   "cell_type": "markdown",
   "metadata": {},
   "source": [
    "## Preflib Dataset"
   ]
  },
  {
   "cell_type": "code",
   "execution_count": 48,
   "metadata": {},
   "outputs": [
    {
     "data": {
      "application/vnd.jupyter.widget-view+json": {
       "model_id": "071d607883554813bb99055d3a26db99",
       "version_major": 2,
       "version_minor": 0
      },
      "text/plain": [
       "  0%|          | 0/308 [00:00<?, ?it/s]"
      ]
     },
     "metadata": {},
     "output_type": "display_data"
    },
    {
     "data": {
      "application/vnd.jupyter.widget-view+json": {
       "model_id": "9673f278f7164a5cac7e2b552032ebf7",
       "version_major": 2,
       "version_minor": 0
      },
      "text/plain": [
       "  0%|          | 0/34 [00:00<?, ?it/s]"
      ]
     },
     "metadata": {},
     "output_type": "display_data"
    },
    {
     "data": {
      "application/vnd.jupyter.widget-view+json": {
       "model_id": "ea5f735845bd429aab88d07f959a25a5",
       "version_major": 2,
       "version_minor": 0
      },
      "text/plain": [
       "  0%|          | 0/85 [00:00<?, ?it/s]"
      ]
     },
     "metadata": {},
     "output_type": "display_data"
    }
   ],
   "source": [
    "profiles = []\n",
    "elections = []\n",
    "file_names = []\n",
    "for fname in tqdm(glob.glob(\"real_elections/preflib_dataset/*.soi\")):\n",
    "\n",
    "    election_name = fname.split(\"/\")[-1].split(\".\")[0]\n",
    "\n",
    "    if election_name in elections: \n",
    "        continue\n",
    "\n",
    "    elections.append(election_name)\n",
    "    file_names.append(fname)\n",
    "    profiles.append(ProfileWithTies.read(fname))\n",
    "    \n",
    "for fname in tqdm(glob.glob(\"real_elections/preflib_dataset/*.toi\")):\n",
    "\n",
    "    election_name = fname.split(\"/\")[-1].split(\".\")[0]\n",
    "\n",
    "    if election_name in elections: \n",
    "        continue\n",
    "\n",
    "    elections.append(election_name)\n",
    "    file_names.append(fname)\n",
    "    profiles.append(ProfileWithTies.read(fname))\n",
    "\n",
    "for fname in tqdm(glob.glob(\"real_elections/preflib_dataset/*.toc\")):\n",
    "\n",
    "    election_name = fname.split(\"/\")[-1].split(\".\")[0]\n",
    "\n",
    "    if election_name in elections: \n",
    "        continue\n",
    "\n",
    "\n",
    "    elections.append(election_name)\n",
    "    file_names.append(fname)\n",
    "    profiles.append(ProfileWithTies.read(fname))\n",
    "\n"
   ]
  },
  {
   "cell_type": "code",
   "execution_count": 49,
   "metadata": {},
   "outputs": [
    {
     "data": {
      "application/vnd.jupyter.widget-view+json": {
       "model_id": "aa892154760443109b3f94deb73600c9",
       "version_major": 2,
       "version_minor": 0
      },
      "text/plain": [
       "  0%|          | 0/364 [00:00<?, ?it/s]"
      ]
     },
     "metadata": {},
     "output_type": "display_data"
    },
    {
     "name": "stdout",
     "output_type": "stream",
     "text": [
      "Total number of elections:  364\n",
      "1 out of 1:  1.0\n"
     ]
    }
   ],
   "source": [
    "\n",
    "num_diff = 0\n",
    "num_no_cw = 0\n",
    "for prof in tqdm(profiles): \n",
    "    prof.use_extended_strict_preference()\n",
    "    cw = prof.condorcet_winner()\n",
    "    if cw is not None:\n",
    "        continue\n",
    "    num_no_cw += 1\n",
    "    minimax_ws = minimax(prof)\n",
    "    minimax_ws_support = minimax(prof, strength_function=prof.support) \n",
    "    if minimax_ws != minimax_ws_support:\n",
    "        num_diff += 1\n",
    "\n",
    "print(\"Total number of elections: \", len(profiles)) \n",
    "\n",
    "print(f\"{num_diff} out of {num_no_cw}: \", num_diff/num_no_cw)\n"
   ]
  },
  {
   "cell_type": "markdown",
   "metadata": {},
   "source": [
    "## CIVS Dataset"
   ]
  },
  {
   "cell_type": "code",
   "execution_count": 50,
   "metadata": {},
   "outputs": [
    {
     "name": "stdout",
     "output_type": "stream",
     "text": [
      "22477\n"
     ]
    },
    {
     "data": {
      "application/vnd.jupyter.widget-view+json": {
       "model_id": "f7907ecc5e244001ae52e10726a0838b",
       "version_major": 2,
       "version_minor": 0
      },
      "text/plain": [
       "  0%|          | 0/22477 [00:00<?, ?it/s]"
      ]
     },
     "metadata": {},
     "output_type": "display_data"
    }
   ],
   "source": [
    "# read a json file\n",
    "import json\n",
    "profiles = []\n",
    "_civs_elections = json.load(open(\"real_elections/civs_dataset/2024-12-15.json\"))\n",
    "\n",
    "civs_elections = _civs_elections['elections']\n",
    "profiles = []\n",
    "for election in tqdm(civs_elections):\n",
    "    if election[\"test\"] == \"yes\":\n",
    "        continue\n",
    "    ballots = []\n",
    "    num_candidates = election['num_choices']\n",
    "    for b in election['ballots']:\n",
    "        ballots.append({cand: rank for cand, rank in enumerate(b) if rank != \"?\"})\n",
    "    profiles.append(ProfileWithTies(ballots, candidates=list(range(num_candidates))))\n"
   ]
  },
  {
   "cell_type": "code",
   "execution_count": 51,
   "metadata": {},
   "outputs": [
    {
     "name": "stdout",
     "output_type": "stream",
     "text": [
      "22477\n"
     ]
    },
    {
     "data": {
      "application/vnd.jupyter.widget-view+json": {
       "model_id": "a32d736c49134979962c997e4a95a774",
       "version_major": 2,
       "version_minor": 0
      },
      "text/plain": [
       "  0%|          | 0/22477 [00:00<?, ?it/s]"
      ]
     },
     "metadata": {},
     "output_type": "display_data"
    },
    {
     "name": "stdout",
     "output_type": "stream",
     "text": [
      "Total number of elections:  22477\n",
      "576 out of 6050:  0.09520661157024793\n"
     ]
    }
   ],
   "source": [
    "\n",
    "num_diff = 0\n",
    "num_no_cw = 0\n",
    "for prof in tqdm(profiles): \n",
    "    prof.use_extended_strict_preference()\n",
    "    cw = prof.condorcet_winner()\n",
    "    if cw is not None:\n",
    "        continue\n",
    "    num_no_cw += 1\n",
    "    minimax_ws = minimax(prof)\n",
    "    minimax_ws_support = minimax(prof, strength_function=prof.support) \n",
    "    if minimax_ws != minimax_ws_support:\n",
    "        num_diff += 1\n",
    "\n",
    "print(\"Total number of elections: \", len(profiles)) \n",
    "\n",
    "print(f\"{num_diff} out of {num_no_cw}: \", num_diff/num_no_cw)\n"
   ]
  },
  {
   "cell_type": "markdown",
   "metadata": {},
   "source": [
    "## Otis 2022 Dataset"
   ]
  },
  {
   "cell_type": "code",
   "execution_count": 52,
   "metadata": {},
   "outputs": [
    {
     "data": {
      "application/vnd.jupyter.widget-view+json": {
       "model_id": "8c2baf2db2e741ef96c7e28af70c9e50",
       "version_major": 2,
       "version_minor": 0
      },
      "text/plain": [
       "  0%|          | 0/458 [00:00<?, ?it/s]"
      ]
     },
     "metadata": {},
     "output_type": "display_data"
    }
   ],
   "source": [
    "# This will take about 17 minutes to run\n",
    "\n",
    "items_to_skip = [\n",
    "    'skipped', \n",
    "    'overvote', \n",
    "    'undervote']\n",
    "\n",
    "profiles = []\n",
    "enames = []\n",
    "for file in tqdm(glob.glob(\"real_elections/otis_2022_dataset/*.zip\")):\n",
    "\n",
    "    if not file.endswith(\".csv\") and not file.endswith(\".zip\"):\n",
    "        continue\n",
    "    # if file ends with .zip unzip the file and process it \n",
    "    if file.endswith(\".zip\"):\n",
    "        with ZipFile(file, 'r') as zip_ref:\n",
    "            # Iterate through each file inside the zip\n",
    "            for name in zip_ref.namelist():\n",
    "                # Only process .csv files\n",
    "                if name.endswith(\".csv\"):\n",
    "                    with zip_ref.open(name) as f:\n",
    "                        # Read the CSV data into memory\n",
    "                        csv_bytes = f.read()\n",
    "                        # Decode bytes to string\n",
    "                        csv_text = csv_bytes.decode('utf-8')\n",
    "                        # Create a file-like StringIO object\n",
    "                        csv_buffer = io.StringIO(csv_text)\n",
    "                        \n",
    "                        # Now pass this StringIO to ProfileWithTies.read\n",
    "                        prof = ProfileWithTies.read(\n",
    "                            csv_buffer,\n",
    "                            file_format='csv',\n",
    "                            csv_format='rank_columns',\n",
    "                            items_to_skip=items_to_skip\n",
    "                        )\n",
    "                        enames.append(name)\n",
    "                        profiles.append(prof)\n"
   ]
  },
  {
   "cell_type": "code",
   "execution_count": null,
   "metadata": {},
   "outputs": [
    {
     "data": {
      "application/vnd.jupyter.widget-view+json": {
       "model_id": "06e7f66fa4094822ac2e855d8022c398",
       "version_major": 2,
       "version_minor": 0
      },
      "text/plain": [
       "  0%|          | 0/458 [00:00<?, ?it/s]"
      ]
     },
     "metadata": {},
     "output_type": "display_data"
    }
   ],
   "source": [
    "num_diff = 0\n",
    "num_no_cw = 0\n",
    "for prof in tqdm(profiles): \n",
    "    prof.use_extended_strict_preference()\n",
    "    cw = prof.condorcet_winner()\n",
    "    if cw is not None:\n",
    "        continue\n",
    "    num_no_cw += 1\n",
    "    minimax_ws = minimax(prof)\n",
    "    minimax_ws_support = minimax(prof, strength_function=prof.support) \n",
    "    if minimax_ws != minimax_ws_support:\n",
    "        num_diff += 1\n",
    "\n",
    "print(\"Total number of elections: \", len(profiles)) \n",
    "\n",
    "print(f\"{num_diff} out of {num_no_cw}: \", num_diff/num_no_cw)\n"
   ]
  },
  {
   "cell_type": "markdown",
   "metadata": {},
   "source": [
    "## 2021 Minneapolis City Council Ward 2 Election"
   ]
  },
  {
   "cell_type": "code",
   "execution_count": 44,
   "metadata": {},
   "outputs": [
    {
     "name": "stdout",
     "output_type": "stream",
     "text": [
      "+------------------------+--------------+--------------+------------+------------------------+------------------------+------------------------+------------+------------------------+--------------+------------------------+------------------------+------------------------+------------+--------------+------------+--------------+--------------+------------------------+-----+--------------+--------------+------------------------+--------------+--------------+--------------+------------------------+--------------+------------------------+------------------------+--------------+--------------+------------------------+--------------+------------------------+------------------------+------------------------+------------------------+------------------------+------------------------+--------------+--------------+------------------------+---------+------------------------+------------------------+------------------------+--------------+--------------+------------+--------------+------------------------+--------------+--------------+--------------+------------------------+--------------+------------+------------------------+------------------------+--------------+--------------+------------------------+--------------+------------------------+--------------+--------------+------------------------+------------------------+------------------------+--------------+------------------------+--------------+------------------------+--------------+--------------+--------------+--------------+------------------------+------------------------+--------------+--------------+------------------------+------------------------+--------------+------------------------+------------------------+------------------------+------------+--------------+--------------+--------------+--------------+--------------+------------------------+--------------+------------------------+--------------+--------------+--------------+--------------+------------------------+------------------------+------------------------+------------------------+------------------------+------------+------------------------+------------------------+------------------------+------------------------+\n",
      "|          334           |     351      |     257      |    797     |          586           |          196           |          633           |    209     |          130           |     291      |          256           |          338           |          405           |    483     |     208      |    259     |      63      |     129      |           78           | 272 |      36      |     188      |          133           |      37      |      16      |      43      |          205           |      83      |          355           |          200           |     120      |     229      |           3            |      56      |           78           |           32           |          130           |           22           |           86           |           40           |     106      |      6       |          112           |    6    |           5            |          447           |          164           |      26      |      4       |     2      |      30      |           45           |      19      |      35      |      31      |           5            |      38      |     4      |           6            |           9            |      30      |      22      |           22           |      17      |           30           |      4       |      19      |           2            |           2            |           3            |      13      |           9            |      8       |           1            |      17      |      7       |      17      |      4       |           4            |           4            |      5       |      3       |           2            |           4            |      2       |           1            |           10           |           1            |     5      |      3       |      9       |      11      |      3       |      8       |           3            |      1       |           3            |      2       |      1       |      2       |      1       |           2            |           1            |           2            |           1            |           4            |     1      |           2            |           2            |           1            |           1            |\n",
      "+------------------------+--------------+--------------+------------+------------------------+------------------------+------------------------+------------+------------------------+--------------+------------------------+------------------------+------------------------+------------+--------------+------------+--------------+--------------+------------------------+-----+--------------+--------------+------------------------+--------------+--------------+--------------+------------------------+--------------+------------------------+------------------------+--------------+--------------+------------------------+--------------+------------------------+------------------------+------------------------+------------------------+------------------------+------------------------+--------------+--------------+------------------------+---------+------------------------+------------------------+------------------------+--------------+--------------+------------+--------------+------------------------+--------------+--------------+--------------+------------------------+--------------+------------+------------------------+------------------------+--------------+--------------+------------------------+--------------+------------------------+--------------+--------------+------------------------+------------------------+------------------------+--------------+------------------------+--------------+------------------------+--------------+--------------+--------------+--------------+------------------------+------------------------+--------------+--------------+------------------------+------------------------+--------------+------------------------+------------------------+------------------------+------------+--------------+--------------+--------------+--------------+--------------+------------------------+--------------+------------------------+--------------+--------------+--------------+--------------+------------------------+------------------------+------------------------+------------------------+------------------------+------------+------------------------+------------------------+------------------------+------------------------+\n",
      "|       Cam Gordon       |  Yusra Arab  |  Yusra Arab  | Yusra Arab |       Cam Gordon       |       Yusra Arab       | Robin Wonsley Worlobah | Cam Gordon |       Cam Gordon       | Guy T Gaskin | Robin Wonsley Worlobah | Robin Wonsley Worlobah | Robin Wonsley Worlobah | Cam Gordon | Tom Anderson | Yusra Arab | Tom Anderson |  Yusra Arab  |      Tom Anderson      |     | Guy T Gaskin |  Cam Gordon  |       Yusra Arab       |  Yusra Arab  | Guy T Gaskin | Guy T Gaskin |       Cam Gordon       |  Cam Gordon  | Robin Wonsley Worlobah |       Yusra Arab       |  Cam Gordon  | Tom Anderson | Robin Wonsley Worlobah | Tom Anderson |       Cam Gordon       | Robin Wonsley Worlobah | Robin Wonsley Worlobah |      Tom Anderson      | Robin Wonsley Worlobah |      Tom Anderson      | Tom Anderson | Tom Anderson |       Yusra Arab       | writein | Robin Wonsley Worlobah | Robin Wonsley Worlobah |       Yusra Arab       |  Cam Gordon  |  Cam Gordon  | Cam Gordon | Tom Anderson | Robin Wonsley Worlobah | Tom Anderson | Tom Anderson |  Yusra Arab  |       Yusra Arab       | Guy T Gaskin | Yusra Arab |      Tom Anderson      |       Cam Gordon       | Guy T Gaskin | Guy T Gaskin |      Tom Anderson      |  Cam Gordon  |      Tom Anderson      |  Yusra Arab  |  Yusra Arab  |      Guy T Gaskin      |      Guy T Gaskin      | Robin Wonsley Worlobah | Tom Anderson | Robin Wonsley Worlobah |  Cam Gordon  | Robin Wonsley Worlobah |  Cam Gordon  | Guy T Gaskin | Guy T Gaskin |  Yusra Arab  | Robin Wonsley Worlobah |      Tom Anderson      |  Cam Gordon  | Guy T Gaskin | Robin Wonsley Worlobah | Robin Wonsley Worlobah | Guy T Gaskin |       Cam Gordon       |      Guy T Gaskin      |      Guy T Gaskin      | Yusra Arab | Guy T Gaskin |  Yusra Arab  | Guy T Gaskin | Tom Anderson | Tom Anderson |      Guy T Gaskin      |   writein    |       Cam Gordon       | Tom Anderson | Guy T Gaskin |  Yusra Arab  |   writein    | Robin Wonsley Worlobah | Robin Wonsley Worlobah |      Guy T Gaskin      |        writein         |       Cam Gordon       | Cam Gordon | Robin Wonsley Worlobah |      Guy T Gaskin      | Robin Wonsley Worlobah |       Yusra Arab       |\n",
      "| Robin Wonsley Worlobah | Tom Anderson | Tom Anderson |            | Robin Wonsley Worlobah |      Tom Anderson      |       Cam Gordon       | Yusra Arab | Robin Wonsley Worlobah |              |       Yusra Arab       |       Yusra Arab       |                        |            |  Yusra Arab  | Cam Gordon |  Cam Gordon  |  Cam Gordon  |       Yusra Arab       |     | Tom Anderson |  Yusra Arab  |       Cam Gordon       | Tom Anderson |  Yusra Arab  |  Cam Gordon  |       Yusra Arab       | Tom Anderson |       Yusra Arab       | Robin Wonsley Worlobah | Tom Anderson |              |      Guy T Gaskin      |  Cam Gordon  |      Tom Anderson      |      Tom Anderson      |       Cam Gordon       | Robin Wonsley Worlobah |      Tom Anderson      | Robin Wonsley Worlobah |  Yusra Arab  |  Yusra Arab  | Robin Wonsley Worlobah |         |       Cam Gordon       |       Cam Gordon       | Robin Wonsley Worlobah | Tom Anderson | Guy T Gaskin | Yusra Arab |  Yusra Arab  |      Tom Anderson      | Guy T Gaskin | Guy T Gaskin | Guy T Gaskin | Robin Wonsley Worlobah |  Cam Gordon  | Cam Gordon | Robin Wonsley Worlobah | Robin Wonsley Worlobah | Tom Anderson | Tom Anderson | Robin Wonsley Worlobah | Guy T Gaskin |       Cam Gordon       | Tom Anderson | Guy T Gaskin |       Cam Gordon       | Robin Wonsley Worlobah |      Tom Anderson      | Guy T Gaskin |       Cam Gordon       |  Yusra Arab  |      Guy T Gaskin      | Guy T Gaskin |  Yusra Arab  |  Yusra Arab  | Guy T Gaskin |       Yusra Arab       |      Guy T Gaskin      | Guy T Gaskin |  Cam Gordon  |       Yusra Arab       |      Guy T Gaskin      |  Cam Gordon  |        writein         |      Tom Anderson      | Robin Wonsley Worlobah |  writein   | Tom Anderson |  Cam Gordon  |   writein    |   writein    |  Cam Gordon  | Robin Wonsley Worlobah | Guy T Gaskin | Robin Wonsley Worlobah | Guy T Gaskin |   writein    | Guy T Gaskin | Tom Anderson |      Guy T Gaskin      |      Tom Anderson      |       Yusra Arab       | Robin Wonsley Worlobah |      Guy T Gaskin      |  writein   |      Guy T Gaskin      | Robin Wonsley Worlobah |        writein         | Robin Wonsley Worlobah |\n",
      "|       Yusra Arab       |              |  Cam Gordon  |            |                        | Robin Wonsley Worlobah |                        |            |      Tom Anderson      |              |                        |       Cam Gordon       |                        |            |              |            |  Yusra Arab  | Tom Anderson | Robin Wonsley Worlobah |     |  Yusra Arab  | Tom Anderson | Robin Wonsley Worlobah | Guy T Gaskin | Tom Anderson | Tom Anderson | Robin Wonsley Worlobah |              |      Tom Anderson      |      Tom Anderson      |  Yusra Arab  |              |                        |              | Robin Wonsley Worlobah |                        |      Tom Anderson      |                        |       Yusra Arab       |       Yusra Arab       |  Cam Gordon  |   writein    |                        |         |      Guy T Gaskin      |       Yusra Arab       |       Cam Gordon       | Guy T Gaskin |  Yusra Arab  |  writein   | Guy T Gaskin |       Cam Gordon       |  Cam Gordon  |              |              |      Guy T Gaskin      |              |  writein   |      Guy T Gaskin      |        writein         |              |  Cam Gordon  |       Cam Gordon       |              | Robin Wonsley Worlobah |   writein    | Tom Anderson | Robin Wonsley Worlobah |      Tom Anderson      |      Guy T Gaskin      |  Yusra Arab  |        writein         | Guy T Gaskin |        writein         | Tom Anderson |  Cam Gordon  |              |  Cam Gordon  |      Guy T Gaskin      | Robin Wonsley Worlobah |   writein    |   writein    |        writein         |       Cam Gordon       |  Yusra Arab  | Robin Wonsley Worlobah | Robin Wonsley Worlobah |                        |            |   writein    | Guy T Gaskin |              |              | Guy T Gaskin |       Cam Gordon       |  Cam Gordon  |      Guy T Gaskin      |   writein    | Tom Anderson |   writein    |              |       Yusra Arab       |        writein         | Robin Wonsley Worlobah |       Yusra Arab       | Robin Wonsley Worlobah |            |      Tom Anderson      |       Yusra Arab       |       Cam Gordon       |        writein         |\n",
      "|                        |              |              |            |                        |                        |                        |            |                        |              |                        |                        |                        |            |              |            |              |              |                        |     |              |              |                        |              |              |              |                        |              |                        |                        |              |              |                        |              |                        |                        |                        |                        |                        |                        |              |              |                        |         |                        |                        |                        |              |              |            |              |                        |              |              |              |                        |              |            |                        |                        |              |              |                        |              |                        |              |              |                        |                        |                        |              |                        |              |                        |              |              |              |              |                        |                        |              |              |                        |                        |              |                        |                        |                        |            |              |              |              |              |              |                        |              |                        |              |              |              |              |                        |                        |                        |                        |                        |            |                        |                        |                        |                        |\n",
      "|                        |              |              |            |                        |                        |                        |            |                        |              |                        |                        |                        |            |              |            |              |              |                        |     |              |              |                        |              |              |              |                        |              |                        |                        |              |              |                        |              |                        |                        |                        |                        |                        |                        |              |              |                        |         |                        |                        |                        |              |              |            |              |                        |              |              |              |                        |              |            |                        |                        |              |              |                        |              |                        |              |              |                        |                        |                        |              |                        |              |                        |              |              |              |              |                        |                        |              |              |                        |                        |              |                        |                        |                        |            |              |              |              |              |              |                        |              |                        |              |              |              |              |                        |                        |                        |                        |                        |            |                        |                        |                        |                        |\n",
      "|                        |              |              |            |                        |                        |                        |            |                        |              |                        |                        |                        |            |              |            |              |              |                        |     |              |              |                        |              |              |              |                        |              |                        |                        |              |              |                        |              |                        |                        |                        |                        |                        |                        |              |              |                        |         |                        |                        |                        |              |              |            |              |                        |              |              |              |                        |              |            |                        |                        |              |              |                        |              |                        |              |              |                        |                        |                        |              |                        |              |                        |              |              |              |              |                        |                        |              |              |                        |                        |              |                        |                        |                        |            |              |              |              |              |              |                        |              |                        |              |              |              |              |                        |                        |                        |                        |                        |            |                        |                        |                        |                        |\n",
      "+------------------------+--------------+--------------+------------+------------------------+------------------------+------------------------+------------+------------------------+--------------+------------------------+------------------------+------------------------+------------+--------------+------------+--------------+--------------+------------------------+-----+--------------+--------------+------------------------+--------------+--------------+--------------+------------------------+--------------+------------------------+------------------------+--------------+--------------+------------------------+--------------+------------------------+------------------------+------------------------+------------------------+------------------------+------------------------+--------------+--------------+------------------------+---------+------------------------+------------------------+------------------------+--------------+--------------+------------+--------------+------------------------+--------------+--------------+--------------+------------------------+--------------+------------+------------------------+------------------------+--------------+--------------+------------------------+--------------+------------------------+--------------+--------------+------------------------+------------------------+------------------------+--------------+------------------------+--------------+------------------------+--------------+--------------+--------------+--------------+------------------------+------------------------+--------------+--------------+------------------------+------------------------+--------------+------------------------+------------------------+------------------------+------------+--------------+--------------+--------------+--------------+--------------+------------------------+--------------+------------------------+--------------+--------------+--------------+--------------+------------------------+------------------------+------------------------+------------------------+------------------------+------------+------------------------+------------------------+------------------------+------------------------+\n",
      "Minimax winner is {Yusra Arab}\n",
      "Using support as the strength function: \n",
      "Minimax winner is {Robin Wonsley Worlobah}\n"
     ]
    }
   ],
   "source": [
    "\n",
    "file = \"real_elections/otis_2022_dataset/Minneapolis_11022021_CityCouncilWard2.csv.zip\"\n",
    "\n",
    "items_to_skip = [\n",
    "    'skipped', \n",
    "    'overvote', \n",
    "    'undervote']\n",
    "\n",
    "with ZipFile(file, 'r') as zip_ref:\n",
    "    for name in zip_ref.namelist():\n",
    "        if name.endswith(\".csv\"):\n",
    "            with zip_ref.open(name) as f:\n",
    "                csv_bytes = f.read()\n",
    "                csv_text = csv_bytes.decode('utf-8')\n",
    "                csv_buffer = io.StringIO(csv_text)\n",
    "                \n",
    "                minneapolis_prof = ProfileWithTies.read(\n",
    "                    csv_buffer,\n",
    "                    file_format='csv',\n",
    "                    csv_format='rank_columns',\n",
    "                    items_to_skip=items_to_skip\n",
    "                )\n",
    "minneapolis_prof.use_extended_strict_preference()\n",
    "minneapolis_prof.anonymize().display()\n",
    "\n",
    "minimax.display(minneapolis_prof)\n",
    "\n",
    "print(\"Using support as the strength function: \")\n",
    "minimax.display(minneapolis_prof, strength_function=minneapolis_prof.support)"
   ]
  },
  {
   "cell_type": "code",
   "execution_count": 45,
   "metadata": {},
   "outputs": [
    {
     "name": "stdout",
     "output_type": "stream",
     "text": [
      "[0, 3, 4]\n",
      "Minimax winner is {Yusra Arab}\n",
      "Using support as the strength function: \n",
      "Minimax winner is {Robin Wonsley Worlobah}\n",
      "+-----+------+-----+-----+-----+-----+-----+-----+-----+-----+-----+-----+-----+-----+-----+\n",
      "| 334 | 1572 | 775 | 843 | 594 | 852 | 596 | 748 | 338 | 492 | 822 | 133 | 205 | 447 | 164 |\n",
      "+-----+------+-----+-----+-----+-----+-----+-----+-----+-----+-----+-----+-----+-----+-----+\n",
      "|  g  |  a   |  a  |  g  |  a  |  w  |  g  |  w  |  w  |  w  |  g  |  a  |  g  |  w  |  a  |\n",
      "|  w  |      |  g  |  w  |  w  |  g  |  a  |  a  |  a  |     |     |  g  |  a  |  g  |  w  |\n",
      "|  a  |      |     |     |     |     |     |     |  g  |     |     |  w  |  w  |  a  |  g  |\n",
      "+-----+------+-----+-----+-----+-----+-----+-----+-----+-----+-----+-----+-----+-----+-----+\n"
     ]
    },
    {
     "data": {
      "image/png": "[encoded data removed]",
      "text/plain": [
       "<Figure size 640x480 with 1 Axes>"
      ]
     },
     "metadata": {},
     "output_type": "display_data"
    },
    {
     "data": {
      "image/png": "[encoded data removed]",
      "text/plain": [
       "<Figure size 640x480 with 1 Axes>"
      ]
     },
     "metadata": {},
     "output_type": "display_data"
    }
   ],
   "source": [
    "s_set = smith_set(minneapolis_prof)\n",
    "print(s_set)\n",
    "restricted_minneapolis_prof = minneapolis_prof.remove_candidates([c for c in minneapolis_prof.candidates if c not in s_set]).anonymize()\n",
    "\n",
    "restricted_minneapolis_prof.remove_empty_rankings()\n",
    "\n",
    "minimax.display(restricted_minneapolis_prof)\n",
    "\n",
    "print(\"Using support as the strength function: \")\n",
    "minimax.display(restricted_minneapolis_prof, strength_function=minneapolis_prof.support)\n",
    "\n",
    "new_cmap = {0:\"g\", 3:\"a\", 4:\"w\"}\n",
    "\n",
    "restricted_minneapolis_prof.display(cmap=new_cmap)\n",
    "\n",
    "restricted_minneapolis_prof.margin_graph().display(cmap=new_cmap)\n",
    "\n",
    "restricted_minneapolis_prof.display_support_graph(cmap=new_cmap)"
   ]
  },
  {
   "cell_type": "code",
   "execution_count": null,
   "metadata": {},
   "outputs": [],
   "source": []
  }
 ],
 "metadata": {
  "kernelspec": {
   "display_name": "3.11.9",
   "language": "python",
   "name": "python3"
  },
  "language_info": {
   "codemirror_mode": {
    "name": "ipython",
    "version": 3
   },
   "file_extension": ".py",
   "mimetype": "text/x-python",
   "name": "python",
   "nbconvert_exporter": "python",
   "pygments_lexer": "ipython3",
   "version": "3.11.9"
  }
 },
 "nbformat": 4,
 "nbformat_minor": 2
}
