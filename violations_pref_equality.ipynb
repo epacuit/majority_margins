{
 "cells": [
  {
   "cell_type": "markdown",
   "metadata": {},
   "source": [
    "# Violations of Preferential Equality "
   ]
  },
  {
   "cell_type": "code",
   "execution_count": 2,
   "metadata": {},
   "outputs": [],
   "source": [
    "from pref_voting.generate_profiles import * \n",
    "from pref_voting.voting_methods import *"
   ]
  },
  {
   "cell_type": "code",
   "execution_count": 5,
   "metadata": {},
   "outputs": [
    {
     "name": "stdout",
     "output_type": "stream",
     "text": [
      "{0: 314, 1: 347, 2: 340}\n",
      "2\n",
      "0\n"
     ]
    }
   ],
   "source": [
    "prof = generate_profile(3, 1001)\n",
    "pl_scores = prof.plurality_scores()\n",
    "print(pl_scores)\n",
    "# find the 2nd largest plurality score\n",
    "second_pl_score = sorted(set(pl_scores.values()))[1]\n",
    "second_place_cand = [c for c in pl_scores.keys() if pl_scores[c] == second_pl_score][0]\n",
    "first_pl_score = sorted(set(pl_scores.values()))[0]\n",
    "first_place_cand = [c for c in pl_scores.keys() if pl_scores[c] == first_pl_score][0]\n",
    "\n",
    "winner = instant_runoff(prof)[0]\n",
    "\n",
    "runner_up = second_place_cand if winner == first_place_cand else first_place_cand\n",
    "\n",
    "print(winner)\n",
    "print(runner_up)\n",
    "\n"
   ]
  },
  {
   "cell_type": "code",
   "execution_count": null,
   "metadata": {},
   "outputs": [],
   "source": []
  },
  {
   "cell_type": "code",
   "execution_count": null,
   "metadata": {},
   "outputs": [],
   "source": []
  }
 ],
 "metadata": {
  "kernelspec": {
   "display_name": "3.11.9",
   "language": "python",
   "name": "python3"
  },
  "language_info": {
   "codemirror_mode": {
    "name": "ipython",
    "version": 3
   },
   "file_extension": ".py",
   "mimetype": "text/x-python",
   "name": "python",
   "nbconvert_exporter": "python",
   "pygments_lexer": "ipython3",
   "version": "3.11.9"
  }
 },
 "nbformat": 4,
 "nbformat_minor": 2
}
