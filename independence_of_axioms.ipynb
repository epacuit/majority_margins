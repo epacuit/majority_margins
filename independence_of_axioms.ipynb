{
 "cells": [
  {
   "cell_type": "markdown",
   "metadata": {},
   "source": [
    "# Independence of Axioms\n",
    "\n",
    "This notebook checks the environments labeled \"Fact\" in the paper \"Characterizations of voting rules based on majority margins\" by Yifeng Ding, Wesley H. Holliday, and Eric Pacuit. \n",
    "\n",
    "The main point is to supply concrete counterexamples showing that certain voting rules do not satisfy certain axioms.\n",
    "\n",
    "In cases where we claim in the paper that certain voting rules *do* satisfy certain axioms, we include a search that turns up no counterexample. Of course such a failed search is not a proof, but proofs of the claims are themselves obvious."
   ]
  },
  {
   "cell_type": "code",
   "execution_count": 1,
   "metadata": {},
   "outputs": [],
   "source": [
    "import pref_voting\n",
    "from pref_voting.generate_profiles import * \n",
    "from pref_voting.voting_methods import *\n",
    "from pref_voting.rankings import *\n",
    "from pref_voting.profiles_with_ties import ProfileWithTies\n",
    "from pref_voting.iterative_methods import *\n",
    "from pref_voting.variable_voter_axioms  import *\n",
    "from pref_voting.invariance_axioms import *\n",
    "\n",
    "from tqdm.notebook import tqdm"
   ]
  },
  {
   "cell_type": "code",
   "execution_count": 2,
   "metadata": {},
   "outputs": [
    {
     "name": "stdout",
     "output_type": "stream",
     "text": [
      "1.14.30\n"
     ]
    }
   ],
   "source": [
    "print(pref_voting.__version__)"
   ]
  },
  {
   "cell_type": "markdown",
   "metadata": {},
   "source": [
    "## Fact 2.6"
   ]
  },
  {
   "cell_type": "code",
   "execution_count": 3,
   "metadata": {},
   "outputs": [],
   "source": [
    "def opp_consecutive(r1, r2):\n",
    "    \"\"\"Returns True if the list r1 ranks some candidate immediately before r2 while r2 ranks the same candidate immediately before r1\"\"\"\n",
    "    pos_in_r2 = {item: idx for idx, item in enumerate(r2)}\n",
    "    return any(pos_in_r2[x] == pos_in_r2[y] + 1 for x, y in zip(r1, r1[1:]))\n",
    "\n",
    "@vm(name=\"Borda or Plurality\")\n",
    "def borda_or_plurality(prof, curr_cands = None):\n",
    "    \"\"\"If there are two voters who rank two candidates consecutively but oppositely, use Borda. Otherwise, use Plurality\"\"\"\n",
    "    if curr_cands is None:\n",
    "        curr_cands = prof.candidates\n",
    "    \n",
    "    use_borda = False\n",
    "\n",
    "    for r1 in prof.rankings:\n",
    "        for r2 in prof.rankings:\n",
    "            if opp_consecutive(r1, r2):\n",
    "                use_borda = True\n",
    "                break\n",
    "            \n",
    "    if use_borda:\n",
    "        #print(\"Using Borda\")\n",
    "        return borda(prof)\n",
    "    else:\n",
    "        #print(\"Using Plurality\")\n",
    "        return plurality(prof)"
   ]
  },
  {
   "cell_type": "code",
   "execution_count": 4,
   "metadata": {},
   "outputs": [
    {
     "data": {
      "application/vnd.jupyter.widget-view+json": {
       "model_id": "467b580d4a8b44f6b315f3e4a3458122",
       "version_major": 2,
       "version_minor": 0
      },
      "text/plain": [
       "  0%|          | 0/10000 [00:00<?, ?it/s]"
      ]
     },
     "metadata": {},
     "output_type": "display_data"
    }
   ],
   "source": [
    "for n in tqdm(range(10_000)):\n",
    "    prof = generate_profile(4,11)\n",
    "\n",
    "    if has_preferential_equality_violation(prof, borda_or_plurality, verbose = True):\n",
    "        break"
   ]
  },
  {
   "cell_type": "markdown",
   "metadata": {},
   "source": [
    "## Fact 2.8.1"
   ]
  },
  {
   "cell_type": "code",
   "execution_count": 5,
   "metadata": {},
   "outputs": [],
   "source": [
    "@vm(name=\"Pareto\")\n",
    "def pareto_rule(prof, curr_cands = None):\n",
    "    \"\"\"Return the candidates who are not Pareto dominated in the profile prof.\"\"\"\n",
    "\n",
    "    if curr_cands is None:\n",
    "        curr_cands = prof.candidates\n",
    "\n",
    "    Pareto_dominated = list()\n",
    "\n",
    "    for c in curr_cands:\n",
    "        for d in curr_cands:\n",
    "            if c != d:\n",
    "                if prof.margin(c, d) == prof.num_voters:\n",
    "                    Pareto_dominated.append(d)\n",
    "\n",
    "    return sorted([c for c in prof.candidates if c not in Pareto_dominated])"
   ]
  },
  {
   "cell_type": "code",
   "execution_count": 6,
   "metadata": {},
   "outputs": [
    {
     "data": {
      "application/vnd.jupyter.widget-view+json": {
       "model_id": "f16e672b654d42a08af495ba180907b9",
       "version_major": 2,
       "version_minor": 0
      },
      "text/plain": [
       "  0%|          | 0/10000 [00:00<?, ?it/s]"
      ]
     },
     "metadata": {},
     "output_type": "display_data"
    }
   ],
   "source": [
    "for n in tqdm(range(10_000)):\n",
    "    prof = generate_profile(4,11)\n",
    "\n",
    "    if has_preferential_equality_violation(prof, pareto_rule, verbose = True):\n",
    "        break"
   ]
  },
  {
   "cell_type": "code",
   "execution_count": 7,
   "metadata": {},
   "outputs": [
    {
     "data": {
      "application/vnd.jupyter.widget-view+json": {
       "model_id": "1624b5b4e49a405ebd03e8592c67fcf7",
       "version_major": 2,
       "version_minor": 0
      },
      "text/plain": [
       "  0%|          | 0/10000 [00:00<?, ?it/s]"
      ]
     },
     "metadata": {},
     "output_type": "display_data"
    },
    {
     "name": "stdout",
     "output_type": "stream",
     "text": [
      "Adding voters with rankings (0, 1, 2, 3) and (3, 2, 1, 0) changes the winners:\n",
      "\n",
      "Original profile:\n",
      "+---+---+---+\n",
      "| 1 | 1 | 1 |\n",
      "+---+---+---+\n",
      "| 1 | 1 | 0 |\n",
      "| 2 | 3 | 2 |\n",
      "| 0 | 2 | 1 |\n",
      "| 3 | 0 | 3 |\n",
      "+---+---+---+\n",
      "Pareto winners are {0, 1, 2}\n",
      "\n",
      "Profile after adding reversal pair:\n",
      "+---+---+---+---+---+\n",
      "| 1 | 1 | 1 | 1 | 1 |\n",
      "+---+---+---+---+---+\n",
      "| 1 | 1 | 0 | 0 | 3 |\n",
      "| 2 | 3 | 2 | 1 | 2 |\n",
      "| 0 | 2 | 1 | 2 | 1 |\n",
      "| 3 | 0 | 3 | 3 | 0 |\n",
      "+---+---+---+---+---+\n",
      "Pareto winners are {0, 1, 2, 3}\n"
     ]
    }
   ],
   "source": [
    "for n in tqdm(range(10_000)):\n",
    "    prof = generate_profile(4,3)\n",
    "\n",
    "    if has_neutral_reversal_violation(prof, pareto, verbose = True):\n",
    "        break"
   ]
  },
  {
   "cell_type": "markdown",
   "metadata": {},
   "source": [
    "## Fact 2.8.2"
   ]
  },
  {
   "cell_type": "code",
   "execution_count": 8,
   "metadata": {},
   "outputs": [],
   "source": [
    "def pos_neg(num_cands, rank):\n",
    "    if rank == 1:\n",
    "        return 1\n",
    "    elif rank == num_cands:\n",
    "        return -1\n",
    "    else:\n",
    "        return 0\n",
    "\n",
    "positive_negative = create_scoring_method(score = lambda num_cands, rank : pos_neg(num_cands, rank), name = \"Positive/Negative Voting\")"
   ]
  },
  {
   "cell_type": "code",
   "execution_count": 9,
   "metadata": {},
   "outputs": [
    {
     "data": {
      "application/vnd.jupyter.widget-view+json": {
       "model_id": "47c03007b9d5400480c14b7756ddb5c2",
       "version_major": 2,
       "version_minor": 0
      },
      "text/plain": [
       "  0%|          | 0/10000 [00:00<?, ?it/s]"
      ]
     },
     "metadata": {},
     "output_type": "display_data"
    }
   ],
   "source": [
    "for n in tqdm(range(10_000)):\n",
    "    prof = generate_profile(4,11)\n",
    "\n",
    "    if has_neutral_reversal_violation(prof, positive_negative, verbose = True):\n",
    "        break"
   ]
  },
  {
   "cell_type": "code",
   "execution_count": 10,
   "metadata": {},
   "outputs": [
    {
     "data": {
      "application/vnd.jupyter.widget-view+json": {
       "model_id": "0e6c0bfc044f4201b2e0657851ffa1b4",
       "version_major": 2,
       "version_minor": 0
      },
      "text/plain": [
       "  0%|          | 0/10000 [00:00<?, ?it/s]"
      ]
     },
     "metadata": {},
     "output_type": "display_data"
    },
    {
     "name": "stdout",
     "output_type": "stream",
     "text": [
      "The original profile\n",
      "+---+---+---+\n",
      "| 1 | 1 | 1 |\n",
      "+---+---+---+\n",
      "| 1 | 2 | 3 |\n",
      "| 3 | 1 | 2 |\n",
      "| 0 | 0 | 1 |\n",
      "| 2 | 3 | 0 |\n",
      "+---+---+---+\n",
      "Profile([[1, 3, 0, 2], [2, 1, 0, 3], [3, 2, 1, 0]], rcounts=[1, 1, 1], cmap={0: '0', 1: '1', 2: '2', 3: '3'})\n",
      "\n",
      "The profile after swapping 0 and 1 in the rankings [(2, 1, 0, 3)]:\n",
      "+---+---+---+\n",
      "| 1 | 1 | 1 |\n",
      "+---+---+---+\n",
      "| 2 | 3 | 1 |\n",
      "| 0 | 2 | 3 |\n",
      "| 1 | 1 | 0 |\n",
      "| 3 | 0 | 2 |\n",
      "+---+---+---+\n",
      "Profile([[2, 0, 1, 3], [3, 2, 1, 0], [1, 3, 0, 2]], rcounts=[1, 1, 1], cmap={0: '0', 1: '1', 2: '2', 3: '3'})\n",
      "Positive/Negative Voting winner is {1}\n",
      "\n",
      "The profile after swapping 0 and 1 in the rankings [(3, 2, 1, 0)]:\n",
      "+---+---+---+\n",
      "| 1 | 1 | 1 |\n",
      "+---+---+---+\n",
      "| 3 | 2 | 1 |\n",
      "| 2 | 1 | 3 |\n",
      "| 0 | 0 | 0 |\n",
      "| 1 | 3 | 2 |\n",
      "+---+---+---+\n",
      "Profile([[3, 2, 0, 1], [2, 1, 0, 3], [1, 3, 0, 2]], rcounts=[1, 1, 1], cmap={0: '0', 1: '1', 2: '2', 3: '3'})\n",
      "Positive/Negative Voting winners are {0, 1, 2, 3}\n"
     ]
    }
   ],
   "source": [
    "for n in tqdm(range(10_000)):\n",
    "    prof = generate_profile(4,3)\n",
    "\n",
    "    if has_preferential_equality_violation(prof, positive_negative, verbose = True):\n",
    "        break"
   ]
  },
  {
   "cell_type": "markdown",
   "metadata": {},
   "source": [
    "## Fact 3.4"
   ]
  },
  {
   "cell_type": "code",
   "execution_count": 11,
   "metadata": {},
   "outputs": [],
   "source": [
    "@vm(name=\"All or Plurality\")\n",
    "def all_or_plurality(prof, curr_cands = None):\n",
    "\n",
    "    if curr_cands is None:\n",
    "        curr_cands = prof.candidates\n",
    "\n",
    "    if isinstance(prof, Profile):\n",
    "        \n",
    "        last_place_disagreement = False\n",
    "\n",
    "        for r1 in prof.rankings:\n",
    "            for r2 in prof.rankings:\n",
    "                if r1[-1] != r2[-1]:\n",
    "                    last_place_disagreement = True\n",
    "                    break\n",
    "        \n",
    "        if last_place_disagreement:\n",
    "            return curr_cands\n",
    "        else:   \n",
    "            return plurality(prof)\n",
    "\n",
    "    if isinstance(prof, ProfileWithTies):\n",
    "\n",
    "        has_tie = False\n",
    "\n",
    "        for r in prof.rankings:\n",
    "            if r.to_linear == None:\n",
    "                has_tie = True\n",
    "                break\n",
    "\n",
    "        if has_tie:\n",
    "            print(\"has tie\")\n",
    "            return curr_cands\n",
    "        \n",
    "        last_place_disagreement = False\n",
    "\n",
    "        for r1 in prof.rankings:\n",
    "            for r2 in prof.rankings:\n",
    "                if r1.last() != r2.last():\n",
    "                    last_place_disagreement = True\n",
    "                    break\n",
    "\n",
    "        if last_place_disagreement:\n",
    "            return curr_cands\n",
    "        \n",
    "        return plurality(prof)"
   ]
  },
  {
   "cell_type": "code",
   "execution_count": 12,
   "metadata": {},
   "outputs": [
    {
     "data": {
      "application/vnd.jupyter.widget-view+json": {
       "model_id": "cf0be2a8bc7b4ca789db1829d8903087",
       "version_major": 2,
       "version_minor": 0
      },
      "text/plain": [
       "  0%|          | 0/10000 [00:00<?, ?it/s]"
      ]
     },
     "metadata": {},
     "output_type": "display_data"
    }
   ],
   "source": [
    "for n in tqdm(range(10_000)):\n",
    "    prof = generate_profile(4,11)\n",
    "    prof = prof.to_profile_with_ties()\n",
    "\n",
    "    if has_tiebreaking_compensation_violation(prof, all_or_plurality, verbose = True):\n",
    "        break"
   ]
  },
  {
   "cell_type": "code",
   "execution_count": 13,
   "metadata": {},
   "outputs": [
    {
     "data": {
      "application/vnd.jupyter.widget-view+json": {
       "model_id": "5d029c1be6b343e19d73ad6c812a7a74",
       "version_major": 2,
       "version_minor": 0
      },
      "text/plain": [
       "  0%|          | 0/10000 [00:00<?, ?it/s]"
      ]
     },
     "metadata": {},
     "output_type": "display_data"
    },
    {
     "name": "stdout",
     "output_type": "stream",
     "text": [
      "The original profile\n",
      "+---+---+---+\n",
      "| 1 | 1 | 1 |\n",
      "+---+---+---+\n",
      "| 0 | 0 | 2 |\n",
      "| 1 | 2 | 0 |\n",
      "| 2 | 1 | 1 |\n",
      "| 3 | 3 | 3 |\n",
      "+---+---+---+\n",
      "ProfileWithTies([{0: 0, 1: 1, 2: 2, 3: 3}, {0: 0, 2: 1, 1: 2, 3: 3}, {2: 0, 0: 1, 1: 2, 3: 3}], rcounts=[1, 1, 1], cmap={0: '0', 1: '1', 2: '2', 3: '3'})\n",
      "\n",
      "The profile after swapping 0 and 1 in the rankings [<pref_voting.rankings.Ranking object at 0x177965ca0>]:\n",
      "+---+---+---+\n",
      "| 1 | 1 | 1 |\n",
      "+---+---+---+\n",
      "| 1 | 2 | 0 |\n",
      "| 0 | 0 | 2 |\n",
      "| 2 | 1 | 1 |\n",
      "| 3 | 3 | 3 |\n",
      "+---+---+---+\n",
      "ProfileWithTies([{0: 1, 1: 0, 2: 2, 3: 3}, {2: 0, 0: 1, 1: 2, 3: 3}, {0: 0, 2: 1, 1: 2, 3: 3}], rcounts=[1, 1, 1], cmap={0: 0, 1: 1, 2: 2, 3: 3})\n",
      "All or Plurality winners are {0, 1, 2}\n",
      "\n",
      "The profile after swapping 0 and 1 in the rankings [<pref_voting.rankings.Ranking object at 0x177a89a30>]:\n",
      "+---+---+---+\n",
      "| 1 | 1 | 1 |\n",
      "+---+---+---+\n",
      "| 2 | 0 | 0 |\n",
      "| 1 | 1 | 2 |\n",
      "| 0 | 2 | 1 |\n",
      "| 3 | 3 | 3 |\n",
      "+---+---+---+\n",
      "ProfileWithTies([{2: 0, 0: 2, 1: 1, 3: 3}, {0: 0, 1: 1, 2: 2, 3: 3}, {0: 0, 2: 1, 1: 2, 3: 3}], rcounts=[1, 1, 1], cmap={0: 0, 1: 1, 2: 2, 3: 3})\n",
      "All or Plurality winner is {0}\n"
     ]
    }
   ],
   "source": [
    "for n in tqdm(range(10_000)):\n",
    "    prof = generate_profile(4,3)\n",
    "    prof = prof.to_profile_with_ties()\n",
    "\n",
    "    if has_preferential_equality_violation(prof, all_or_plurality, verbose = True):\n",
    "        break"
   ]
  },
  {
   "cell_type": "markdown",
   "metadata": {},
   "source": [
    "## Fact 3.5.1"
   ]
  },
  {
   "cell_type": "code",
   "execution_count": 14,
   "metadata": {},
   "outputs": [
    {
     "data": {
      "application/vnd.jupyter.widget-view+json": {
       "model_id": "9386a1966d0f4cacb7552b95a8f78ef5",
       "version_major": 2,
       "version_minor": 0
      },
      "text/plain": [
       "  0%|          | 0/10000 [00:00<?, ?it/s]"
      ]
     },
     "metadata": {},
     "output_type": "display_data"
    }
   ],
   "source": [
    "for n in tqdm(range(10_000)):\n",
    "    prof = generate_profile(4,11)\n",
    "    prof = prof.to_profile_with_ties()\n",
    "\n",
    "    if has_tiebreaking_compensation_violation(prof, pareto_rule, verbose = True):\n",
    "        break"
   ]
  },
  {
   "cell_type": "markdown",
   "metadata": {},
   "source": [
    "## Fact 3.5.2"
   ]
  },
  {
   "cell_type": "code",
   "execution_count": 15,
   "metadata": {},
   "outputs": [
    {
     "name": "stdout",
     "output_type": "stream",
     "text": [
      "+-----+---+---+\n",
      "|  3  | 4 | 2 |\n",
      "+-----+---+---+\n",
      "|  b  | c | a |\n",
      "| a c | a | b |\n",
      "|     | b | c |\n",
      "+-----+---+---+\n",
      "ProfileWithTies([{1: 1, 0: 2, 2: 2}, {2: 1, 0: 2, 1: 3}, {0: 1, 1: 2, 2: 3}], rcounts=[3, 4, 2], cmap={0: 'a', 1: 'b', 2: 'c'})\n",
      "Minimax (winning votes) winner is {a}\n",
      "\n",
      "After breaking the tie between the candidates ['a', 'c'] in b ( a  c )  with ('a', 'c') and b ( a  c )  with ('c', 'a'): \n",
      "\n",
      "+---+---+-----+---+---+\n",
      "| 1 | 1 |  1  | 4 | 2 |\n",
      "+---+---+-----+---+---+\n",
      "| 1 | 1 |  1  | 2 | 0 |\n",
      "| 0 | 2 | 0 2 | 0 | 1 |\n",
      "| 2 | 0 |     | 1 | 2 |\n",
      "+---+---+-----+---+---+\n",
      "ProfileWithTies([{1: 1, 0: 2, 2: 3}, {1: 1, 2: 2, 0: 3}, {1: 1, 0: 2, 2: 2}, {2: 1, 0: 2, 1: 3}, {2: 1, 0: 2, 1: 3}, {2: 1, 0: 2, 1: 3}, {2: 1, 0: 2, 1: 3}, {0: 1, 1: 2, 2: 3}, {0: 1, 1: 2, 2: 3}], rcounts=[1, 1, 1, 1, 1, 1, 1, 1, 1], cmap={0: 0, 1: 1, 2: 2})\n",
      "Minimax (winning votes) winners are {0, 2}\n"
     ]
    },
    {
     "data": {
      "text/plain": [
       "True"
      ]
     },
     "execution_count": 15,
     "metadata": {},
     "output_type": "execute_result"
    }
   ],
   "source": [
    "@vm(name=\"Minimax (winning votes)\")\n",
    "def minimax_winning_votes(prof, curr_cands = None):\n",
    "    return minimax(prof, curr_cands = curr_cands, strength_function=prof.support)\n",
    "a=0\n",
    "b=1\n",
    "c=2\n",
    "cmap = {a: \"a\", b: \"b\", c: \"c\"}\n",
    "prof  = ProfileWithTies([\n",
    "    {b:1, a:2, c:2},\n",
    "    {c:1, a:2, b:3},\n",
    "    {a:1, b:2, c:3},\n",
    "    ], \n",
    "    rcounts=[3, 4, 2],\n",
    "    cmap=cmap)\n",
    "\n",
    "has_tiebreaking_compensation_violation(prof, minimax_winning_votes, verbose = True)\n"
   ]
  },
  {
   "cell_type": "code",
   "execution_count": 16,
   "metadata": {},
   "outputs": [
    {
     "data": {
      "application/vnd.jupyter.widget-view+json": {
       "model_id": "0e980a25380c4c3b8fabc420e053321f",
       "version_major": 2,
       "version_minor": 0
      },
      "text/plain": [
       "  0%|          | 0/10000 [00:00<?, ?it/s]"
      ]
     },
     "metadata": {},
     "output_type": "display_data"
    }
   ],
   "source": [
    "for n in tqdm(range(10_000)):\n",
    "    prof = generate_profile(4,11)\n",
    "\n",
    "    if has_neutral_reversal_violation(prof, minimax_winning_votes, verbose = True):\n",
    "        break"
   ]
  },
  {
   "cell_type": "code",
   "execution_count": 17,
   "metadata": {},
   "outputs": [
    {
     "data": {
      "application/vnd.jupyter.widget-view+json": {
       "model_id": "e172e7f5ad44452f89f1cd97277f4188",
       "version_major": 2,
       "version_minor": 0
      },
      "text/plain": [
       "  0%|          | 0/10000 [00:00<?, ?it/s]"
      ]
     },
     "metadata": {},
     "output_type": "display_data"
    }
   ],
   "source": [
    "for n in tqdm(range(10_000)):\n",
    "    prof = generate_profile(4,11)\n",
    "\n",
    "    if has_preferential_equality_violation(prof, minimax_winning_votes, verbose = True):\n",
    "        break"
   ]
  },
  {
   "cell_type": "markdown",
   "metadata": {},
   "source": [
    "## Fact 3.7"
   ]
  },
  {
   "cell_type": "code",
   "execution_count": 18,
   "metadata": {},
   "outputs": [],
   "source": [
    "@vm(name=\"BP or RP based on margins\")\n",
    "def bp_or_rp_margins(prof, curr_cands = None):\n",
    "\n",
    "    max_margin = max([prof.margin(a,b) for a in prof.candidates for b in prof.candidates if a != b])\n",
    "\n",
    "    if max_margin < 10:\n",
    "        return beat_path(prof, curr_cands)\n",
    "    \n",
    "    else:\n",
    "        return ranked_pairs(prof, curr_cands)"
   ]
  },
  {
   "cell_type": "code",
   "execution_count": 19,
   "metadata": {},
   "outputs": [
    {
     "data": {
      "application/vnd.jupyter.widget-view+json": {
       "model_id": "4e9c76b441df43ddb1428cd81ebe0ea6",
       "version_major": 2,
       "version_minor": 0
      },
      "text/plain": [
       "  0%|          | 0/10000 [00:00<?, ?it/s]"
      ]
     },
     "metadata": {},
     "output_type": "display_data"
    },
    {
     "name": "stdout",
     "output_type": "stream",
     "text": [
      "Homogeneity Violation for BP or RP based on margins\n",
      "+---+---+---+---+---+---+---+---+---+---+---+---+---+---+---+---+---+---+---+---+---+---+---+---+---+\n",
      "| 1 | 1 | 1 | 1 | 1 | 1 | 1 | 1 | 1 | 1 | 1 | 1 | 1 | 1 | 1 | 1 | 1 | 1 | 1 | 1 | 1 | 1 | 1 | 1 | 1 |\n",
      "+---+---+---+---+---+---+---+---+---+---+---+---+---+---+---+---+---+---+---+---+---+---+---+---+---+\n",
      "| 3 | 3 | 2 | 2 | 1 | 0 | 3 | 1 | 2 | 3 | 2 | 2 | 1 | 0 | 0 | 3 | 1 | 3 | 1 | 0 | 3 | 0 | 3 | 2 | 2 |\n",
      "| 2 | 1 | 1 | 0 | 0 | 2 | 0 | 0 | 1 | 0 | 0 | 1 | 0 | 1 | 2 | 0 | 2 | 1 | 2 | 1 | 0 | 3 | 2 | 1 | 3 |\n",
      "| 0 | 2 | 3 | 3 | 2 | 1 | 1 | 2 | 0 | 1 | 3 | 0 | 2 | 3 | 3 | 2 | 3 | 2 | 0 | 2 | 1 | 1 | 1 | 3 | 1 |\n",
      "| 1 | 0 | 0 | 1 | 3 | 3 | 2 | 3 | 3 | 2 | 1 | 3 | 3 | 2 | 1 | 1 | 0 | 0 | 3 | 3 | 2 | 2 | 0 | 0 | 0 |\n",
      "+---+---+---+---+---+---+---+---+---+---+---+---+---+---+---+---+---+---+---+---+---+---+---+---+---+\n",
      "Profile([[3, 2, 0, 1], [3, 1, 2, 0], [2, 1, 3, 0], [2, 0, 3, 1], [1, 0, 2, 3], [0, 2, 1, 3], [3, 0, 1, 2], [1, 0, 2, 3], [2, 1, 0, 3], [3, 0, 1, 2], [2, 0, 3, 1], [2, 1, 0, 3], [1, 0, 2, 3], [0, 1, 3, 2], [0, 2, 3, 1], [3, 0, 2, 1], [1, 2, 3, 0], [3, 1, 2, 0], [1, 2, 0, 3], [0, 1, 2, 3], [3, 0, 1, 2], [0, 3, 1, 2], [3, 2, 1, 0], [2, 1, 3, 0], [2, 3, 1, 0]], rcounts=[1, 1, 1, 1, 1, 1, 1, 1, 1, 1, 1, 1, 1, 1, 1, 1, 1, 1, 1, 1, 1, 1, 1, 1, 1], cmap={0: '0', 1: '1', 2: '2', 3: '3'})\n",
      "BP or RP based on margins winners are {0, 1, 2}\n",
      "\n",
      "+---+---+---+---+---+---+---+---+---+---+---+---+---+---+---+---+---+---+---+---+---+---+---+---+---+\n",
      "| 2 | 2 | 2 | 2 | 2 | 2 | 2 | 2 | 2 | 2 | 2 | 2 | 2 | 2 | 2 | 2 | 2 | 2 | 2 | 2 | 2 | 2 | 2 | 2 | 2 |\n",
      "+---+---+---+---+---+---+---+---+---+---+---+---+---+---+---+---+---+---+---+---+---+---+---+---+---+\n",
      "| 3 | 3 | 2 | 2 | 1 | 0 | 3 | 1 | 2 | 3 | 2 | 2 | 1 | 0 | 0 | 3 | 1 | 3 | 1 | 0 | 3 | 0 | 3 | 2 | 2 |\n",
      "| 2 | 1 | 1 | 0 | 0 | 2 | 0 | 0 | 1 | 0 | 0 | 1 | 0 | 1 | 2 | 0 | 2 | 1 | 2 | 1 | 0 | 3 | 2 | 1 | 3 |\n",
      "| 0 | 2 | 3 | 3 | 2 | 1 | 1 | 2 | 0 | 1 | 3 | 0 | 2 | 3 | 3 | 2 | 3 | 2 | 0 | 2 | 1 | 1 | 1 | 3 | 1 |\n",
      "| 1 | 0 | 0 | 1 | 3 | 3 | 2 | 3 | 3 | 2 | 1 | 3 | 3 | 2 | 1 | 1 | 0 | 0 | 3 | 3 | 2 | 2 | 0 | 0 | 0 |\n",
      "+---+---+---+---+---+---+---+---+---+---+---+---+---+---+---+---+---+---+---+---+---+---+---+---+---+\n",
      "Profile([[3, 2, 0, 1], [3, 1, 2, 0], [2, 1, 3, 0], [2, 0, 3, 1], [1, 0, 2, 3], [0, 2, 1, 3], [3, 0, 1, 2], [1, 0, 2, 3], [2, 1, 0, 3], [3, 0, 1, 2], [2, 0, 3, 1], [2, 1, 0, 3], [1, 0, 2, 3], [0, 1, 3, 2], [0, 2, 3, 1], [3, 0, 2, 1], [1, 2, 3, 0], [3, 1, 2, 0], [1, 2, 0, 3], [0, 1, 2, 3], [3, 0, 1, 2], [0, 3, 1, 2], [3, 2, 1, 0], [2, 1, 3, 0], [2, 3, 1, 0]], rcounts=[2, 2, 2, 2, 2, 2, 2, 2, 2, 2, 2, 2, 2, 2, 2, 2, 2, 2, 2, 2, 2, 2, 2, 2, 2], cmap={0: '0', 1: '1', 2: '2', 3: '3'})\n",
      "BP or RP based on margins winners are {1, 2}\n"
     ]
    }
   ],
   "source": [
    "for n in tqdm(range(10_000)):\n",
    "    prof = generate_profile(4,25)\n",
    "\n",
    "    if has_homogeneity_violation(prof, bp_or_rp_margins, num_copies=2, verbose = True):\n",
    "        break"
   ]
  },
  {
   "cell_type": "markdown",
   "metadata": {},
   "source": [
    "## Fact 3.10"
   ]
  },
  {
   "cell_type": "code",
   "execution_count": 20,
   "metadata": {},
   "outputs": [],
   "source": [
    "@vm(name=\"BP or RP based on parity of voters\")\n",
    "def bp_or_rp_parity(prof, curr_cands = None):\n",
    "\n",
    "    if curr_cands is None:\n",
    "        curr_cands = prof.candidates\n",
    "\n",
    "    if prof.num_voters % 2 == 0:\n",
    "        return beat_path(prof, curr_cands)\n",
    "    else:\n",
    "        return ranked_pairs(prof, curr_cands)"
   ]
  },
  {
   "cell_type": "code",
   "execution_count": 21,
   "metadata": {},
   "outputs": [
    {
     "data": {
      "application/vnd.jupyter.widget-view+json": {
       "model_id": "49c31cfd200e45a898f9c225b3ffc26f",
       "version_major": 2,
       "version_minor": 0
      },
      "text/plain": [
       "  0%|          | 0/10000 [00:00<?, ?it/s]"
      ]
     },
     "metadata": {},
     "output_type": "display_data"
    },
    {
     "name": "stdout",
     "output_type": "stream",
     "text": [
      "Homogeneity Violation for BP or RP based on parity of voters\n",
      "+---+---+---+---+---+\n",
      "| 1 | 1 | 1 | 1 | 1 |\n",
      "+---+---+---+---+---+\n",
      "| 2 | 0 | 2 | 1 | 3 |\n",
      "| 3 | 1 | 1 | 3 | 0 |\n",
      "| 0 | 3 | 3 | 2 | 1 |\n",
      "| 1 | 2 | 0 | 0 | 2 |\n",
      "+---+---+---+---+---+\n",
      "Profile([[2, 3, 0, 1], [0, 1, 3, 2], [2, 1, 3, 0], [1, 3, 2, 0], [3, 0, 1, 2]], rcounts=[1, 1, 1, 1, 1], cmap={0: '0', 1: '1', 2: '2', 3: '3'})\n",
      "BP or RP based on parity of voters winners are {1, 3}\n",
      "\n",
      "+---+---+---+---+---+\n",
      "| 2 | 2 | 2 | 2 | 2 |\n",
      "+---+---+---+---+---+\n",
      "| 2 | 0 | 2 | 1 | 3 |\n",
      "| 3 | 1 | 1 | 3 | 0 |\n",
      "| 0 | 3 | 3 | 2 | 1 |\n",
      "| 1 | 2 | 0 | 0 | 2 |\n",
      "+---+---+---+---+---+\n",
      "Profile([[2, 3, 0, 1], [0, 1, 3, 2], [2, 1, 3, 0], [1, 3, 2, 0], [3, 0, 1, 2]], rcounts=[2, 2, 2, 2, 2], cmap={0: '0', 1: '1', 2: '2', 3: '3'})\n",
      "BP or RP based on parity of voters winners are {1, 2, 3}\n"
     ]
    }
   ],
   "source": [
    "for n in tqdm(range(10_000)):\n",
    "    prof = generate_profile(4,5)\n",
    "\n",
    "    if has_homogeneity_violation(prof, bp_or_rp_parity, num_copies=2, verbose = True):\n",
    "        break"
   ]
  },
  {
   "cell_type": "code",
   "execution_count": 22,
   "metadata": {},
   "outputs": [
    {
     "data": {
      "application/vnd.jupyter.widget-view+json": {
       "model_id": "2c95cc390b7847ad8f76f9c09d8dd251",
       "version_major": 2,
       "version_minor": 0
      },
      "text/plain": [
       "  0%|          | 0/10000 [00:00<?, ?it/s]"
      ]
     },
     "metadata": {},
     "output_type": "display_data"
    }
   ],
   "source": [
    "for n in tqdm(range(10_000)):\n",
    "    prof = generate_profile(4,3)\n",
    "\n",
    "    if has_neutral_reversal_violation(prof, bp_or_rp_parity, verbose = True):\n",
    "        break"
   ]
  },
  {
   "cell_type": "markdown",
   "metadata": {},
   "source": [
    "## Footnote 9"
   ]
  },
  {
   "cell_type": "code",
   "execution_count": 92,
   "metadata": {},
   "outputs": [],
   "source": [
    "# Given $Y\\subsetneq X$ and rankings $P$ and $P'$ of $X$, say that $P$ and $P'$ \\textit{agree outside $Y$}, if (a) for all $x\\in X\\setminus Y$, either $xPy$ for all $y\\in Y$ or $yPx$ for all $y\\in Y$, and either $xP'y$ for all $y\\in Y$ or $yP'x$ for all $y\\in Y$,  and (b) $P\\setminus Y^2 = P'\\setminus Y^2$.\n",
    "\n",
    "def agree_outside_Y(X, Y, P, P2):\n",
    "    # first check condition (a) for P\n",
    "    for x in X:\n",
    "        if x in Y:\n",
    "            continue\n",
    "        \n",
    "        above_all_ys = True\n",
    "\n",
    "        for y in Y:\n",
    "            if not P[x] < P[y]:\n",
    "                above_all_ys = False\n",
    "                break\n",
    "        \n",
    "        below_all_ys = True\n",
    "\n",
    "        for y in Y:\n",
    "            if not P[y] < P[x]:\n",
    "                below_all_ys = False\n",
    "                break\n",
    "                \n",
    "        if not (above_all_ys or below_all_ys):\n",
    "            return False\n",
    "\n",
    "    # now check condition (a) for P'\n",
    "    for x in X:\n",
    "        if x in Y:\n",
    "            continue\n",
    "        \n",
    "        above_all_ys = True\n",
    "\n",
    "        for y in Y:\n",
    "            if not P2[x] < P2[y]:\n",
    "                above_all_ys = False\n",
    "                break\n",
    "        \n",
    "        below_all_ys = True\n",
    "\n",
    "        for y in Y:\n",
    "            if not P2[y] < P2[x]:\n",
    "                below_all_ys = False\n",
    "                break\n",
    "                \n",
    "        if not (above_all_ys or below_all_ys):\n",
    "            return False\n",
    "\n",
    "    # now check condition (b)\n",
    "    for x in X:\n",
    "        for z in X:\n",
    "            if x in Y and z in Y:\n",
    "                continue\n",
    "            \n",
    "            # check whether P and P' agree on the relative order of x and z\n",
    "            if not P[x] < P[z] == P2[x] < P2[z]:\n",
    "                return False\n",
    "\n",
    "    return True\n",
    "\n",
    "def agree_outside_some_Y(X, P, P2):\n",
    "    for Y in powerset(X):\n",
    "        if len(Y) != len(X) and agree_outside_Y(X, Y, P, P2):\n",
    "            return True\n",
    "    return False"
   ]
  },
  {
   "cell_type": "code",
   "execution_count": 93,
   "metadata": {},
   "outputs": [],
   "source": [
    "@vm(name=\"Footnote 9 Rule\")\n",
    "def footnote_9_rule(prof, curr_cands = None):\n",
    "\n",
    "    curr_cands = prof.candidates\n",
    "    \n",
    "    apply_first_case = False\n",
    "\n",
    "    rs = prof.rankings\n",
    "\n",
    "    for r in rs:\n",
    "        r_reversed = list(reversed(r))\n",
    "        for r2 in rs:\n",
    "            if agree_outside_some_Y(prof.candidates, r, r2) or r2 == r_reversed:\n",
    "                apply_first_case = True\n",
    "                break\n",
    "\n",
    "    if apply_first_case:\n",
    "        return curr_cands\n",
    "    \n",
    "    else:\n",
    "        return plurality(prof)"
   ]
  },
  {
   "cell_type": "code",
   "execution_count": 94,
   "metadata": {},
   "outputs": [
    {
     "name": "stdout",
     "output_type": "stream",
     "text": [
      "The original profile\n",
      "+---+---+\n",
      "| 1 | 1 |\n",
      "+---+---+\n",
      "| 0 | 3 |\n",
      "| 1 | 0 |\n",
      "| 2 | 1 |\n",
      "| 3 | 4 |\n",
      "| 4 | 2 |\n",
      "+---+---+\n",
      "Profile([[0, 1, 2, 3, 4], [3, 0, 1, 4, 2]], rcounts=[1, 1], cmap={0: '0', 1: '1', 2: '2', 3: '3', 4: '4'})\n",
      "\n",
      "The profile after swapping 0 and 1 in the rankings [(0, 1, 2, 3, 4)]:\n",
      "+---+---+\n",
      "| 1 | 1 |\n",
      "+---+---+\n",
      "| 1 | 3 |\n",
      "| 0 | 0 |\n",
      "| 2 | 1 |\n",
      "| 3 | 4 |\n",
      "| 4 | 2 |\n",
      "+---+---+\n",
      "Profile([[1, 0, 2, 3, 4], [3, 0, 1, 4, 2]], rcounts=[1, 1], cmap={0: '0', 1: '1', 2: '2', 3: '3', 4: '4'})\n",
      "Footnote 9 Rule winners are {1, 3}\n",
      "\n",
      "The profile after swapping 0 and 1 in the rankings [(3, 0, 1, 4, 2)]:\n",
      "+---+---+\n",
      "| 1 | 1 |\n",
      "+---+---+\n",
      "| 3 | 0 |\n",
      "| 1 | 1 |\n",
      "| 0 | 2 |\n",
      "| 4 | 3 |\n",
      "| 2 | 4 |\n",
      "+---+---+\n",
      "Profile([[3, 1, 0, 4, 2], [0, 1, 2, 3, 4]], rcounts=[1, 1], cmap={0: '0', 1: '1', 2: '2', 3: '3', 4: '4'})\n",
      "Footnote 9 Rule winners are {0, 3}\n"
     ]
    },
    {
     "data": {
      "text/plain": [
       "True"
      ]
     },
     "execution_count": 94,
     "metadata": {},
     "output_type": "execute_result"
    }
   ],
   "source": [
    "fn_9_prof = Profile([[0,1,2,3,4], [3,0,1,4,2]])\n",
    "has_preferential_equality_violation(fn_9_prof, footnote_9_rule, verbose = True)"
   ]
  },
  {
   "cell_type": "markdown",
   "metadata": {},
   "source": [
    "## Fact 4.2"
   ]
  },
  {
   "cell_type": "code",
   "execution_count": 23,
   "metadata": {},
   "outputs": [],
   "source": [
    "@vm(name=\"Borda for SWOs\")\n",
    "def borda_swo(prof, curr_cands = None):\n",
    "\n",
    "    borda_score = {c:0 for c in prof.candidates}\n",
    "\n",
    "    for c in prof.candidates:\n",
    "        for r in prof.rankings:\n",
    "            # add to the Borda score for c the number of candidates ranked below it\n",
    "            if isinstance(prof, Profile):\n",
    "                borda_score[c] += sum([1 for d in prof.candidates if r.index(c) < r.index(d)])\n",
    "            if isinstance(prof, ProfileWithTies):\n",
    "                borda_score[c] += sum([1 for d in prof.candidates if r.strict_pref(c, d)])\n",
    "\n",
    "    max_borda_score = max(borda_score.values())\n",
    "\n",
    "    return sorted([c for c in prof.candidates if borda_score[c] == max_borda_score])"
   ]
  },
  {
   "cell_type": "code",
   "execution_count": 24,
   "metadata": {},
   "outputs": [
    {
     "data": {
      "application/vnd.jupyter.widget-view+json": {
       "model_id": "23dc1e9e19184f5fa19154291ffa77b0",
       "version_major": 2,
       "version_minor": 0
      },
      "text/plain": [
       "  0%|          | 0/10000 [00:00<?, ?it/s]"
      ]
     },
     "metadata": {},
     "output_type": "display_data"
    },
    {
     "name": "stdout",
     "output_type": "stream",
     "text": [
      "The original profile\n",
      "+---+---+---+\n",
      "| 1 | 1 | 1 |\n",
      "+---+---+---+\n",
      "| 0 | 1 | 3 |\n",
      "| 1 | 0 | 0 |\n",
      "| 3 | 2 | 1 |\n",
      "| 2 | 3 | 2 |\n",
      "+---+---+---+\n",
      "Profile([[0, 1, 3, 2], [1, 0, 2, 3], [3, 0, 1, 2]], rcounts=[1, 1, 1], cmap={0: '0', 1: '1', 2: '2', 3: '3'})\n",
      "Borda for SWOs winner is {0}\n",
      "\n",
      "The profile after adding 1 2 ( 0  3 )  and its reverse ( 0  3 ) 2 1 :\n",
      "+---+---+---+-----+-----+\n",
      "| 1 | 1 | 1 |  1  |  1  |\n",
      "+---+---+---+-----+-----+\n",
      "| 0 | 1 | 3 |  1  | 0 3 |\n",
      "| 1 | 0 | 0 |  2  |  2  |\n",
      "| 3 | 2 | 1 | 0 3 |  1  |\n",
      "| 2 | 3 | 2 |     |     |\n",
      "+---+---+---+-----+-----+\n",
      "ProfileWithTies([{0: 1, 1: 2, 3: 3, 2: 4}, {1: 1, 0: 2, 2: 3, 3: 4}, {3: 1, 0: 2, 1: 3, 2: 4}, {1: 1, 2: 2, 0: 3, 3: 3}, {1: 3, 2: 2, 0: 1, 3: 1}], rcounts=[1, 1, 1, 1, 1], cmap={0: 0, 1: 1, 2: 2, 3: 3})\n",
      "Borda for SWOs winners are {0, 1}\n"
     ]
    }
   ],
   "source": [
    "for n in tqdm(range(10_000)):\n",
    "    prof = generate_profile(4,3)\n",
    "\n",
    "    if has_nonlinear_neutral_reversal_violation(prof, borda_swo, verbose = True):\n",
    "        break"
   ]
  },
  {
   "cell_type": "code",
   "execution_count": 25,
   "metadata": {},
   "outputs": [
    {
     "data": {
      "application/vnd.jupyter.widget-view+json": {
       "model_id": "ebbf3e11d31440209a90548464725bde",
       "version_major": 2,
       "version_minor": 0
      },
      "text/plain": [
       "  0%|          | 0/10000 [00:00<?, ?it/s]"
      ]
     },
     "metadata": {},
     "output_type": "display_data"
    }
   ],
   "source": [
    "for n in tqdm(range(10_000)):\n",
    "    prof = generate_profile(4,11)\n",
    "\n",
    "    if has_neutral_reversal_violation(prof, borda_swo, verbose = True):\n",
    "        break"
   ]
  },
  {
   "cell_type": "markdown",
   "metadata": {},
   "source": [
    "## Fact 4.5.1"
   ]
  },
  {
   "cell_type": "code",
   "execution_count": 26,
   "metadata": {},
   "outputs": [
    {
     "data": {
      "application/vnd.jupyter.widget-view+json": {
       "model_id": "4d3b5fa541234b1d8ccac1827d76d4c9",
       "version_major": 2,
       "version_minor": 0
      },
      "text/plain": [
       "  0%|          | 0/10000 [00:00<?, ?it/s]"
      ]
     },
     "metadata": {},
     "output_type": "display_data"
    }
   ],
   "source": [
    "for n in tqdm(range(10_000)):\n",
    "    prof = generate_profile(4,11)\n",
    "\n",
    "    if has_neutral_indifference_violation(prof, minimax_winning_votes, verbose = True):\n",
    "        break"
   ]
  },
  {
   "cell_type": "code",
   "execution_count": 27,
   "metadata": {},
   "outputs": [
    {
     "data": {
      "application/vnd.jupyter.widget-view+json": {
       "model_id": "8282db05f7724ca7a5e6bf1c138511e7",
       "version_major": 2,
       "version_minor": 0
      },
      "text/plain": [
       "  0%|          | 0/10000 [00:00<?, ?it/s]"
      ]
     },
     "metadata": {},
     "output_type": "display_data"
    },
    {
     "name": "stdout",
     "output_type": "stream",
     "text": [
      "The original profile\n",
      "+---+---+---+\n",
      "| 1 | 1 | 1 |\n",
      "+---+---+---+\n",
      "| 3 | 1 | 0 |\n",
      "| 2 | 2 | 1 |\n",
      "| 0 | 0 | 2 |\n",
      "| 1 | 3 | 3 |\n",
      "+---+---+---+\n",
      "Profile([[3, 2, 0, 1], [1, 2, 0, 3], [0, 1, 2, 3]], rcounts=[1, 1, 1], cmap={0: '0', 1: '1', 2: '2', 3: '3'})\n",
      "Minimax (winning votes) winners are {0, 1, 2, 3}\n",
      "\n",
      "The profile after adding 0 3 ( 1  2 )  and its reverse ( 1  2 ) 3 0 :\n",
      "+---+---+---+-----+-----+\n",
      "| 1 | 1 | 1 |  1  |  1  |\n",
      "+---+---+---+-----+-----+\n",
      "| 3 | 1 | 0 |  0  | 1 2 |\n",
      "| 2 | 2 | 1 |  3  |  3  |\n",
      "| 0 | 0 | 2 | 1 2 |  0  |\n",
      "| 1 | 3 | 3 |     |     |\n",
      "+---+---+---+-----+-----+\n",
      "ProfileWithTies([{3: 1, 2: 2, 0: 3, 1: 4}, {1: 1, 2: 2, 0: 3, 3: 4}, {0: 1, 1: 2, 2: 3, 3: 4}, {0: 1, 3: 2, 1: 3, 2: 3}, {0: 3, 3: 2, 1: 1, 2: 1}], rcounts=[1, 1, 1, 1, 1], cmap={0: 0, 1: 1, 2: 2, 3: 3})\n",
      "Minimax (winning votes) winner is {2}\n"
     ]
    }
   ],
   "source": [
    "for n in tqdm(range(10_000)):\n",
    "    prof = generate_profile(4,3)\n",
    "\n",
    "    if has_nonlinear_neutral_reversal_violation(prof, minimax_winning_votes, verbose = True):\n",
    "        break"
   ]
  },
  {
   "cell_type": "markdown",
   "metadata": {},
   "source": [
    "## Fact 4.5.2"
   ]
  },
  {
   "cell_type": "code",
   "execution_count": 28,
   "metadata": {},
   "outputs": [
    {
     "data": {
      "application/vnd.jupyter.widget-view+json": {
       "model_id": "74fa23dd28b244a4b3e729b4d10c020e",
       "version_major": 2,
       "version_minor": 0
      },
      "text/plain": [
       "  0%|          | 0/10000 [00:00<?, ?it/s]"
      ]
     },
     "metadata": {},
     "output_type": "display_data"
    },
    {
     "name": "stdout",
     "output_type": "stream",
     "text": [
      "The original profile\n",
      "+---+---+---+---+\n",
      "| 1 | 2 | 1 | 1 |\n",
      "+---+---+---+---+\n",
      "| 3 | 2 | 0 | 1 |\n",
      "| 0 | 3 | 2 | 3 |\n",
      "| 1 | 1 | 1 | 0 |\n",
      "| 2 | 0 | 3 | 2 |\n",
      "+---+---+---+---+\n",
      "Profile([[3, 0, 1, 2], [2, 3, 1, 0], [0, 2, 1, 3], [2, 3, 1, 0], [1, 3, 0, 2]], rcounts=[1, 1, 1, 1, 1], cmap={0: '0', 1: '1', 2: '2', 3: '3'})\n",
      "BP or RP based on parity of voters winners are {2, 3}\n",
      "\n",
      "The profile after adding a tie ranking:\n",
      "+---+---+---+---+---------+\n",
      "| 1 | 2 | 1 | 1 |    1    |\n",
      "+---+---+---+---+---------+\n",
      "| 3 | 2 | 0 | 1 | 0 1 2 3 |\n",
      "| 0 | 3 | 2 | 3 |         |\n",
      "| 1 | 1 | 1 | 0 |         |\n",
      "| 2 | 0 | 3 | 2 |         |\n",
      "+---+---+---+---+---------+\n",
      "ProfileWithTies([{3: 1, 0: 2, 1: 3, 2: 4}, {2: 1, 3: 2, 1: 3, 0: 4}, {0: 1, 2: 2, 1: 3, 3: 4}, {2: 1, 3: 2, 1: 3, 0: 4}, {1: 1, 3: 2, 0: 3, 2: 4}, {0: 0, 1: 0, 2: 0, 3: 0}], rcounts=[1, 1, 1, 1, 1, 1], cmap={0: 0, 1: 1, 2: 2, 3: 3})\n",
      "BP or RP based on parity of voters winners are {1, 2, 3}\n"
     ]
    }
   ],
   "source": [
    "for n in tqdm(range(10_000)):\n",
    "    prof = generate_profile(4,5)\n",
    "\n",
    "    if has_neutral_indifference_violation(prof, bp_or_rp_parity, verbose = True):\n",
    "        break"
   ]
  },
  {
   "cell_type": "markdown",
   "metadata": {},
   "source": [
    "## Fact 4.8"
   ]
  },
  {
   "cell_type": "code",
   "execution_count": 29,
   "metadata": {},
   "outputs": [],
   "source": [
    "## To be added"
   ]
  }
 ],
 "metadata": {
  "kernelspec": {
   "display_name": "Python 3",
   "language": "python",
   "name": "python3"
  },
  "language_info": {
   "codemirror_mode": {
    "name": "ipython",
    "version": 3
   },
   "file_extension": ".py",
   "mimetype": "text/x-python",
   "name": "python",
   "nbconvert_exporter": "python",
   "pygments_lexer": "ipython3",
   "version": "3.9.6"
  }
 },
 "nbformat": 4,
 "nbformat_minor": 2
}
