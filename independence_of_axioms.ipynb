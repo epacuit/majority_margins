{
 "cells": [
  {
   "cell_type": "markdown",
   "metadata": {},
   "source": [
    "# Independence of Axioms\n",
    "\n",
    "This notebook checks the environments labeled \"Fact\" in the paper \"Characterizations of voting rules based on majority margins\" by Yifeng Ding, Wesley H. Holliday, and Eric Pacuit. \n",
    "\n",
    "The main point is to supply concrete counterexamples showing that certain voting rules do not satisfy certain axioms.\n",
    "\n",
    "In cases where we claim in the paper that certain voting rules *do* satisfy certain axioms, we include a search that turns up no counterexample. Of course such a failed search is not a proof, but proofs of the claims are themselves obvious."
   ]
  },
  {
   "cell_type": "code",
   "execution_count": 1,
   "metadata": {},
   "outputs": [],
   "source": [
    "import pref_voting\n",
    "from pref_voting.generate_profiles import * \n",
    "from pref_voting.voting_methods import *\n",
    "from pref_voting.rankings import *\n",
    "from pref_voting.profiles_with_ties import ProfileWithTies\n",
    "from pref_voting.iterative_methods import *\n",
    "from pref_voting.variable_voter_axioms  import *\n",
    "from pref_voting.invariance_axioms import *\n",
    "\n",
    "from tqdm.notebook import tqdm"
   ]
  },
  {
   "cell_type": "code",
   "execution_count": 2,
   "metadata": {},
   "outputs": [
    {
     "name": "stdout",
     "output_type": "stream",
     "text": [
      "1.14.30\n"
     ]
    }
   ],
   "source": [
    "print(pref_voting.__version__)"
   ]
  },
  {
   "cell_type": "markdown",
   "metadata": {},
   "source": [
    "## Fact 2.6"
   ]
  },
  {
   "cell_type": "code",
   "execution_count": 3,
   "metadata": {},
   "outputs": [],
   "source": [
    "def opp_consecutive(r1, r2):\n",
    "    \"\"\"Returns True if the list r1 ranks some candidate immediately before r2 while r2 ranks the same candidate immediately before r1\"\"\"\n",
    "    pos_in_r2 = {item: idx for idx, item in enumerate(r2)}\n",
    "    return any(pos_in_r2[x] == pos_in_r2[y] + 1 for x, y in zip(r1, r1[1:]))\n",
    "\n",
    "@vm(name=\"Borda or Plurality\")\n",
    "def borda_or_plurality(prof, curr_cands = None):\n",
    "    \"\"\"If there are two voters who rank two candidates consecutively but oppositely, use Borda. Otherwise, use Plurality\"\"\"\n",
    "    if curr_cands is None:\n",
    "        curr_cands = prof.candidates\n",
    "    \n",
    "    use_borda = False\n",
    "\n",
    "    for r1 in prof.rankings:\n",
    "        for r2 in prof.rankings:\n",
    "            if opp_consecutive(r1, r2):\n",
    "                use_borda = True\n",
    "                break\n",
    "            \n",
    "    if use_borda:\n",
    "        #print(\"Using Borda\")\n",
    "        return borda(prof)\n",
    "    else:\n",
    "        #print(\"Using Plurality\")\n",
    "        return plurality(prof)"
   ]
  },
  {
   "cell_type": "code",
   "execution_count": 4,
   "metadata": {},
   "outputs": [
    {
     "data": {
      "application/vnd.jupyter.widget-view+json": {
       "model_id": "5534a17372d74c13a380347537d158b1",
       "version_major": 2,
       "version_minor": 0
      },
      "text/plain": [
       "  0%|          | 0/10000 [00:00<?, ?it/s]"
      ]
     },
     "metadata": {},
     "output_type": "display_data"
    }
   ],
   "source": [
    "for n in tqdm(range(10_000)):\n",
    "    prof = generate_profile(4,11)\n",
    "\n",
    "    if has_preferential_equality_violation(prof, borda_or_plurality, verbose = True):\n",
    "        break"
   ]
  },
  {
   "cell_type": "markdown",
   "metadata": {},
   "source": [
    "## Fact 2.8.1"
   ]
  },
  {
   "cell_type": "code",
   "execution_count": 5,
   "metadata": {},
   "outputs": [],
   "source": [
    "@vm(name=\"Pareto\")\n",
    "def pareto_rule(prof, curr_cands = None):\n",
    "    \"\"\"Return the candidates who are not Pareto dominated in the profile prof.\"\"\"\n",
    "\n",
    "    if curr_cands is None:\n",
    "        curr_cands = prof.candidates\n",
    "\n",
    "    Pareto_dominated = list()\n",
    "\n",
    "    for c in curr_cands:\n",
    "        for d in curr_cands:\n",
    "            if c != d:\n",
    "                if prof.margin(c, d) == prof.num_voters:\n",
    "                    Pareto_dominated.append(d)\n",
    "\n",
    "    return sorted([c for c in prof.candidates if c not in Pareto_dominated])"
   ]
  },
  {
   "cell_type": "code",
   "execution_count": 6,
   "metadata": {},
   "outputs": [
    {
     "data": {
      "application/vnd.jupyter.widget-view+json": {
       "model_id": "730c10cd2421443785def3b2f6ab6f87",
       "version_major": 2,
       "version_minor": 0
      },
      "text/plain": [
       "  0%|          | 0/10000 [00:00<?, ?it/s]"
      ]
     },
     "metadata": {},
     "output_type": "display_data"
    }
   ],
   "source": [
    "for n in tqdm(range(10_000)):\n",
    "    prof = generate_profile(4,11)\n",
    "\n",
    "    if has_preferential_equality_violation(prof, pareto_rule, verbose = True):\n",
    "        break"
   ]
  },
  {
   "cell_type": "code",
   "execution_count": 7,
   "metadata": {},
   "outputs": [
    {
     "data": {
      "application/vnd.jupyter.widget-view+json": {
       "model_id": "30651d00e1dd4dec8fb11dc82a07798c",
       "version_major": 2,
       "version_minor": 0
      },
      "text/plain": [
       "  0%|          | 0/10000 [00:00<?, ?it/s]"
      ]
     },
     "metadata": {},
     "output_type": "display_data"
    },
    {
     "name": "stdout",
     "output_type": "stream",
     "text": [
      "Adding voters with rankings (0, 1, 2, 3) and (3, 2, 1, 0) changes the winners:\n",
      "\n",
      "Original profile:\n",
      "+---+---+---+\n",
      "| 1 | 1 | 1 |\n",
      "+---+---+---+\n",
      "| 2 | 3 | 2 |\n",
      "| 1 | 1 | 1 |\n",
      "| 0 | 0 | 3 |\n",
      "| 3 | 2 | 0 |\n",
      "+---+---+---+\n",
      "Pareto winners are {1, 2, 3}\n",
      "\n",
      "Profile after adding reversal pair:\n",
      "+---+---+---+---+---+\n",
      "| 1 | 1 | 1 | 1 | 1 |\n",
      "+---+---+---+---+---+\n",
      "| 2 | 3 | 2 | 0 | 3 |\n",
      "| 1 | 1 | 1 | 1 | 2 |\n",
      "| 0 | 0 | 3 | 2 | 1 |\n",
      "| 3 | 2 | 0 | 3 | 0 |\n",
      "+---+---+---+---+---+\n",
      "Pareto winners are {0, 1, 2, 3}\n"
     ]
    }
   ],
   "source": [
    "for n in tqdm(range(10_000)):\n",
    "    prof = generate_profile(4,3)\n",
    "\n",
    "    if has_neutral_reversal_violation(prof, pareto, verbose = True):\n",
    "        break"
   ]
  },
  {
   "cell_type": "markdown",
   "metadata": {},
   "source": [
    "## Fact 2.8.2"
   ]
  },
  {
   "cell_type": "code",
   "execution_count": 8,
   "metadata": {},
   "outputs": [],
   "source": [
    "def pos_neg(num_cands, rank):\n",
    "    if rank == 1:\n",
    "        return 1\n",
    "    elif rank == num_cands:\n",
    "        return -1\n",
    "    else:\n",
    "        return 0\n",
    "\n",
    "positive_negative = create_scoring_method(score = lambda num_cands, rank : pos_neg(num_cands, rank), name = \"Positive/Negative Voting\")"
   ]
  },
  {
   "cell_type": "code",
   "execution_count": 9,
   "metadata": {},
   "outputs": [
    {
     "data": {
      "application/vnd.jupyter.widget-view+json": {
       "model_id": "87b7598727a8400d9ebaad20a5813d04",
       "version_major": 2,
       "version_minor": 0
      },
      "text/plain": [
       "  0%|          | 0/10000 [00:00<?, ?it/s]"
      ]
     },
     "metadata": {},
     "output_type": "display_data"
    }
   ],
   "source": [
    "for n in tqdm(range(10_000)):\n",
    "    prof = generate_profile(4,11)\n",
    "\n",
    "    if has_neutral_reversal_violation(prof, positive_negative, verbose = True):\n",
    "        break"
   ]
  },
  {
   "cell_type": "code",
   "execution_count": 10,
   "metadata": {},
   "outputs": [
    {
     "data": {
      "application/vnd.jupyter.widget-view+json": {
       "model_id": "15cb247418de49548deb795fcfaa57d6",
       "version_major": 2,
       "version_minor": 0
      },
      "text/plain": [
       "  0%|          | 0/10000 [00:00<?, ?it/s]"
      ]
     },
     "metadata": {},
     "output_type": "display_data"
    },
    {
     "name": "stdout",
     "output_type": "stream",
     "text": [
      "The original profile\n",
      "+---+---+---+\n",
      "| 1 | 1 | 1 |\n",
      "+---+---+---+\n",
      "| 2 | 2 | 0 |\n",
      "| 0 | 0 | 1 |\n",
      "| 3 | 1 | 3 |\n",
      "| 1 | 3 | 2 |\n",
      "+---+---+---+\n",
      "Profile([[2, 0, 3, 1], [2, 0, 1, 3], [0, 1, 3, 2]], rcounts=[1, 1, 1], cmap={0: '0', 1: '1', 2: '2', 3: '3'})\n",
      "The profile after swapping 0 and 1 in the rankings [(2, 0, 1, 3)]:\n",
      "+---+---+---+\n",
      "| 1 | 1 | 1 |\n",
      "+---+---+---+\n",
      "| 2 | 0 | 2 |\n",
      "| 1 | 1 | 0 |\n",
      "| 0 | 3 | 3 |\n",
      "| 3 | 2 | 1 |\n",
      "+---+---+---+\n",
      "Profile([[2, 1, 0, 3], [0, 1, 3, 2], [2, 0, 3, 1]], rcounts=[1, 1, 1], cmap={0: '0', 1: '1', 2: '2', 3: '3'})\n",
      "Positive/Negative Voting winners are {0, 2}\n",
      "The profile after swapping 0 and 1 in the rankings [(0, 1, 3, 2)]:\n",
      "+---+---+---+\n",
      "| 1 | 1 | 1 |\n",
      "+---+---+---+\n",
      "| 1 | 2 | 2 |\n",
      "| 0 | 0 | 0 |\n",
      "| 3 | 1 | 3 |\n",
      "| 2 | 3 | 1 |\n",
      "+---+---+---+\n",
      "Profile([[1, 0, 3, 2], [2, 0, 1, 3], [2, 0, 3, 1]], rcounts=[1, 1, 1], cmap={0: '0', 1: '1', 2: '2', 3: '3'})\n",
      "Positive/Negative Voting winner is {2}\n"
     ]
    }
   ],
   "source": [
    "for n in tqdm(range(10_000)):\n",
    "    prof = generate_profile(4,3)\n",
    "\n",
    "    if has_preferential_equality_violation(prof, positive_negative, verbose = True):\n",
    "        break"
   ]
  },
  {
   "cell_type": "markdown",
   "metadata": {},
   "source": [
    "## Fact 3.3"
   ]
  },
  {
   "cell_type": "code",
   "execution_count": 11,
   "metadata": {},
   "outputs": [],
   "source": [
    "# To be added"
   ]
  },
  {
   "cell_type": "markdown",
   "metadata": {},
   "source": [
    "## Fact 3.4.1"
   ]
  },
  {
   "cell_type": "code",
   "execution_count": 12,
   "metadata": {},
   "outputs": [],
   "source": [
    "# To be added"
   ]
  },
  {
   "cell_type": "markdown",
   "metadata": {},
   "source": [
    "## Fact 3.4.2"
   ]
  },
  {
   "cell_type": "code",
   "execution_count": 3,
   "metadata": {},
   "outputs": [
    {
     "name": "stdout",
     "output_type": "stream",
     "text": [
      "+-----+---+---+\n",
      "|  3  | 4 | 2 |\n",
      "+-----+---+---+\n",
      "|  b  | c | a |\n",
      "| a c | a | b |\n",
      "|     | b | c |\n",
      "+-----+---+---+\n",
      "ProfileWithTies([{1: 1, 0: 2, 2: 2}, {2: 1, 0: 2, 1: 3}, {0: 1, 1: 2, 2: 3}], rcounts=[3, 4, 2], cmap={0: 'a', 1: 'b', 2: 'c'})\n",
      "Minimax (winning votes) winner is {a}\n",
      "\n",
      "After breaking the tie between the candidates ['a', 'c'] in b ( a  c )  with ('a', 'c') and b ( a  c )  with ('c', 'a'): \n",
      "\n",
      "+---+---+-----+---+---+\n",
      "| 1 | 1 |  1  | 4 | 2 |\n",
      "+---+---+-----+---+---+\n",
      "| 1 | 1 |  1  | 2 | 0 |\n",
      "| 0 | 2 | 0 2 | 0 | 1 |\n",
      "| 2 | 0 |     | 1 | 2 |\n",
      "+---+---+-----+---+---+\n",
      "ProfileWithTies([{1: 1, 0: 2, 2: 3}, {1: 1, 2: 2, 0: 3}, {1: 1, 0: 2, 2: 2}, {2: 1, 0: 2, 1: 3}, {2: 1, 0: 2, 1: 3}, {2: 1, 0: 2, 1: 3}, {2: 1, 0: 2, 1: 3}, {0: 1, 1: 2, 2: 3}, {0: 1, 1: 2, 2: 3}], rcounts=[1, 1, 1, 1, 1, 1, 1, 1, 1], cmap={0: 0, 1: 1, 2: 2})\n",
      "Minimax (winning votes) winners are {0, 2}\n"
     ]
    },
    {
     "data": {
      "text/plain": [
       "True"
      ]
     },
     "execution_count": 3,
     "metadata": {},
     "output_type": "execute_result"
    }
   ],
   "source": [
    "@vm(name=\"Minimax (winning votes)\")\n",
    "def minimax_winning_votes(prof, curr_cands = None):\n",
    "    return minimax(prof, curr_cands = curr_cands, strength_function=prof.support)\n",
    "a=0\n",
    "b=1\n",
    "c=2\n",
    "cmap = {a: \"a\", b: \"b\", c: \"c\"}\n",
    "prof  = ProfileWithTies([\n",
    "    {b:1, a:2, c:2},\n",
    "    {c:1, a:2, b:3},\n",
    "    {a:1, b:2, c:3},\n",
    "    ], \n",
    "    rcounts=[3, 4, 2],\n",
    "    cmap=cmap)\n",
    "\n",
    "has_tiebreaking_compensation_violation(prof, minimax_winning_votes, verbose = True)\n"
   ]
  },
  {
   "cell_type": "code",
   "execution_count": 14,
   "metadata": {},
   "outputs": [
    {
     "data": {
      "application/vnd.jupyter.widget-view+json": {
       "model_id": "44134397319a4fcdb3ea358521c88205",
       "version_major": 2,
       "version_minor": 0
      },
      "text/plain": [
       "  0%|          | 0/10000 [00:00<?, ?it/s]"
      ]
     },
     "metadata": {},
     "output_type": "display_data"
    }
   ],
   "source": [
    "for n in tqdm(range(10_000)):\n",
    "    prof = generate_profile(4,11)\n",
    "\n",
    "    if has_neutral_reversal_violation(prof, minimax_winning_votes, verbose = True):\n",
    "        break"
   ]
  },
  {
   "cell_type": "code",
   "execution_count": 15,
   "metadata": {},
   "outputs": [
    {
     "data": {
      "application/vnd.jupyter.widget-view+json": {
       "model_id": "8e90f1bc736f41089164217dfd4a8959",
       "version_major": 2,
       "version_minor": 0
      },
      "text/plain": [
       "  0%|          | 0/10000 [00:00<?, ?it/s]"
      ]
     },
     "metadata": {},
     "output_type": "display_data"
    }
   ],
   "source": [
    "for n in tqdm(range(10_000)):\n",
    "    prof = generate_profile(4,11)\n",
    "\n",
    "    if has_preferential_equality_violation(prof, minimax_winning_votes, verbose = True):\n",
    "        break"
   ]
  },
  {
   "cell_type": "markdown",
   "metadata": {},
   "source": [
    "## Fact 3.6"
   ]
  },
  {
   "cell_type": "code",
   "execution_count": 16,
   "metadata": {},
   "outputs": [],
   "source": [
    "@vm(name=\"BP or RP based on margins\")\n",
    "def bp_or_rp_margins(prof, curr_cands = None):\n",
    "\n",
    "    max_margin = max([prof.margin(a,b) for a in prof.candidates for b in prof.candidates if a != b])\n",
    "\n",
    "    if max_margin < 10:\n",
    "        return beat_path(prof, curr_cands)\n",
    "    \n",
    "    else:\n",
    "        return ranked_pairs(prof, curr_cands)"
   ]
  },
  {
   "cell_type": "code",
   "execution_count": 17,
   "metadata": {},
   "outputs": [
    {
     "data": {
      "application/vnd.jupyter.widget-view+json": {
       "model_id": "e491dce3aa43426db706e0ca37c598f8",
       "version_major": 2,
       "version_minor": 0
      },
      "text/plain": [
       "  0%|          | 0/10000 [00:00<?, ?it/s]"
      ]
     },
     "metadata": {},
     "output_type": "display_data"
    },
    {
     "name": "stdout",
     "output_type": "stream",
     "text": [
      "Homogeneity Violation for BP or RP based on margins\n",
      "+---+---+---+---+---+---+---+---+---+---+---+---+---+---+---+---+---+---+---+---+---+---+---+---+---+\n",
      "| 1 | 1 | 1 | 1 | 1 | 1 | 1 | 1 | 1 | 1 | 1 | 1 | 1 | 1 | 1 | 1 | 1 | 1 | 1 | 1 | 1 | 1 | 1 | 1 | 1 |\n",
      "+---+---+---+---+---+---+---+---+---+---+---+---+---+---+---+---+---+---+---+---+---+---+---+---+---+\n",
      "| 2 | 1 | 2 | 1 | 0 | 0 | 0 | 0 | 1 | 1 | 2 | 2 | 2 | 3 | 2 | 0 | 3 | 1 | 1 | 3 | 3 | 0 | 0 | 0 | 0 |\n",
      "| 3 | 2 | 1 | 2 | 2 | 3 | 1 | 3 | 0 | 2 | 3 | 3 | 3 | 1 | 0 | 3 | 0 | 2 | 3 | 0 | 2 | 3 | 1 | 1 | 2 |\n",
      "| 1 | 0 | 0 | 3 | 3 | 1 | 2 | 1 | 2 | 0 | 1 | 1 | 1 | 0 | 1 | 1 | 1 | 0 | 0 | 1 | 1 | 2 | 3 | 2 | 3 |\n",
      "| 0 | 3 | 3 | 0 | 1 | 2 | 3 | 2 | 3 | 3 | 0 | 0 | 0 | 2 | 3 | 2 | 2 | 3 | 2 | 2 | 0 | 1 | 2 | 3 | 1 |\n",
      "+---+---+---+---+---+---+---+---+---+---+---+---+---+---+---+---+---+---+---+---+---+---+---+---+---+\n",
      "Profile([[2, 3, 1, 0], [1, 2, 0, 3], [2, 1, 0, 3], [1, 2, 3, 0], [0, 2, 3, 1], [0, 3, 1, 2], [0, 1, 2, 3], [0, 3, 1, 2], [1, 0, 2, 3], [1, 2, 0, 3], [2, 3, 1, 0], [2, 3, 1, 0], [2, 3, 1, 0], [3, 1, 0, 2], [2, 0, 1, 3], [0, 3, 1, 2], [3, 0, 1, 2], [1, 2, 0, 3], [1, 3, 0, 2], [3, 0, 1, 2], [3, 2, 1, 0], [0, 3, 2, 1], [0, 1, 3, 2], [0, 1, 2, 3], [0, 2, 3, 1]], rcounts=[1, 1, 1, 1, 1, 1, 1, 1, 1, 1, 1, 1, 1, 1, 1, 1, 1, 1, 1, 1, 1, 1, 1, 1, 1], cmap={0: '0', 1: '1', 2: '2', 3: '3'})\n",
      "BP or RP based on margins winner is {0}\n",
      "+---+---+---+---+---+---+---+---+---+---+---+---+---+---+---+---+---+---+---+---+---+---+---+---+---+\n",
      "| 2 | 2 | 2 | 2 | 2 | 2 | 2 | 2 | 2 | 2 | 2 | 2 | 2 | 2 | 2 | 2 | 2 | 2 | 2 | 2 | 2 | 2 | 2 | 2 | 2 |\n",
      "+---+---+---+---+---+---+---+---+---+---+---+---+---+---+---+---+---+---+---+---+---+---+---+---+---+\n",
      "| 2 | 1 | 2 | 1 | 0 | 0 | 0 | 0 | 1 | 1 | 2 | 2 | 2 | 3 | 2 | 0 | 3 | 1 | 1 | 3 | 3 | 0 | 0 | 0 | 0 |\n",
      "| 3 | 2 | 1 | 2 | 2 | 3 | 1 | 3 | 0 | 2 | 3 | 3 | 3 | 1 | 0 | 3 | 0 | 2 | 3 | 0 | 2 | 3 | 1 | 1 | 2 |\n",
      "| 1 | 0 | 0 | 3 | 3 | 1 | 2 | 1 | 2 | 0 | 1 | 1 | 1 | 0 | 1 | 1 | 1 | 0 | 0 | 1 | 1 | 2 | 3 | 2 | 3 |\n",
      "| 0 | 3 | 3 | 0 | 1 | 2 | 3 | 2 | 3 | 3 | 0 | 0 | 0 | 2 | 3 | 2 | 2 | 3 | 2 | 2 | 0 | 1 | 2 | 3 | 1 |\n",
      "+---+---+---+---+---+---+---+---+---+---+---+---+---+---+---+---+---+---+---+---+---+---+---+---+---+\n",
      "Profile([[2, 3, 1, 0], [1, 2, 0, 3], [2, 1, 0, 3], [1, 2, 3, 0], [0, 2, 3, 1], [0, 3, 1, 2], [0, 1, 2, 3], [0, 3, 1, 2], [1, 0, 2, 3], [1, 2, 0, 3], [2, 3, 1, 0], [2, 3, 1, 0], [2, 3, 1, 0], [3, 1, 0, 2], [2, 0, 1, 3], [0, 3, 1, 2], [3, 0, 1, 2], [1, 2, 0, 3], [1, 3, 0, 2], [3, 0, 1, 2], [3, 2, 1, 0], [0, 3, 2, 1], [0, 1, 3, 2], [0, 1, 2, 3], [0, 2, 3, 1]], rcounts=[2, 2, 2, 2, 2, 2, 2, 2, 2, 2, 2, 2, 2, 2, 2, 2, 2, 2, 2, 2, 2, 2, 2, 2, 2], cmap={0: '0', 1: '1', 2: '2', 3: '3'})\n",
      "BP or RP based on margins winner is {1}\n"
     ]
    }
   ],
   "source": [
    "for n in tqdm(range(10_000)):\n",
    "    prof = generate_profile(4,25)\n",
    "\n",
    "    if has_homogeneity_violation(prof, bp_or_rp_margins, num_copies=2, verbose = True):\n",
    "        break"
   ]
  },
  {
   "cell_type": "markdown",
   "metadata": {},
   "source": [
    "## Fact 3.9"
   ]
  },
  {
   "cell_type": "code",
   "execution_count": 18,
   "metadata": {},
   "outputs": [],
   "source": [
    "@vm(name=\"BP or RP based on parity of voters\")\n",
    "def bp_or_rp_parity(prof, curr_cands = None):\n",
    "\n",
    "    if curr_cands is None:\n",
    "        curr_cands = prof.candidates\n",
    "\n",
    "    if prof.num_voters % 2 == 0:\n",
    "        return beat_path(prof, curr_cands)\n",
    "    else:\n",
    "        return ranked_pairs(prof, curr_cands)"
   ]
  },
  {
   "cell_type": "code",
   "execution_count": 19,
   "metadata": {},
   "outputs": [
    {
     "data": {
      "application/vnd.jupyter.widget-view+json": {
       "model_id": "21e8a64f35754a378a05d9f82fc472cc",
       "version_major": 2,
       "version_minor": 0
      },
      "text/plain": [
       "  0%|          | 0/10000 [00:00<?, ?it/s]"
      ]
     },
     "metadata": {},
     "output_type": "display_data"
    },
    {
     "name": "stdout",
     "output_type": "stream",
     "text": [
      "Homogeneity Violation for BP or RP based on parity of voters\n",
      "+---+---+---+---+---+\n",
      "| 1 | 1 | 1 | 1 | 1 |\n",
      "+---+---+---+---+---+\n",
      "| 0 | 2 | 1 | 2 | 0 |\n",
      "| 2 | 3 | 3 | 1 | 1 |\n",
      "| 3 | 0 | 0 | 3 | 2 |\n",
      "| 1 | 1 | 2 | 0 | 3 |\n",
      "+---+---+---+---+---+\n",
      "Profile([[0, 2, 3, 1], [2, 3, 0, 1], [1, 3, 0, 2], [2, 1, 3, 0], [0, 1, 2, 3]], rcounts=[1, 1, 1, 1, 1], cmap={0: '0', 1: '1', 2: '2', 3: '3'})\n",
      "BP or RP based on parity of voters winners are {0, 2}\n",
      "+---+---+---+---+---+\n",
      "| 2 | 2 | 2 | 2 | 2 |\n",
      "+---+---+---+---+---+\n",
      "| 0 | 2 | 1 | 2 | 0 |\n",
      "| 2 | 3 | 3 | 1 | 1 |\n",
      "| 3 | 0 | 0 | 3 | 2 |\n",
      "| 1 | 1 | 2 | 0 | 3 |\n",
      "+---+---+---+---+---+\n",
      "Profile([[0, 2, 3, 1], [2, 3, 0, 1], [1, 3, 0, 2], [2, 1, 3, 0], [0, 1, 2, 3]], rcounts=[2, 2, 2, 2, 2], cmap={0: '0', 1: '1', 2: '2', 3: '3'})\n",
      "BP or RP based on parity of voters winners are {0, 1, 2}\n"
     ]
    }
   ],
   "source": [
    "for n in tqdm(range(10_000)):\n",
    "    prof = generate_profile(4,5)\n",
    "\n",
    "    if has_homogeneity_violation(prof, bp_or_rp_parity, num_copies=2, verbose = True):\n",
    "        break"
   ]
  },
  {
   "cell_type": "code",
   "execution_count": 20,
   "metadata": {},
   "outputs": [
    {
     "data": {
      "application/vnd.jupyter.widget-view+json": {
       "model_id": "afc6a2e27dd24fcbb5c7de5c2edcd2c8",
       "version_major": 2,
       "version_minor": 0
      },
      "text/plain": [
       "  0%|          | 0/10000 [00:00<?, ?it/s]"
      ]
     },
     "metadata": {},
     "output_type": "display_data"
    }
   ],
   "source": [
    "for n in tqdm(range(10_000)):\n",
    "    prof = generate_profile(4,3)\n",
    "\n",
    "    if has_neutral_reversal_violation(prof, bp_or_rp_parity, verbose = True):\n",
    "        break"
   ]
  },
  {
   "cell_type": "markdown",
   "metadata": {},
   "source": [
    "## Fact 4.2"
   ]
  },
  {
   "cell_type": "code",
   "execution_count": 21,
   "metadata": {},
   "outputs": [],
   "source": [
    "@vm(name=\"Borda for SWOs\")\n",
    "def borda_swo(prof, curr_cands = None):\n",
    "\n",
    "    borda_score = {c:0 for c in prof.candidates}\n",
    "\n",
    "    for c in prof.candidates:\n",
    "        for r in prof.rankings:\n",
    "            # add to the Borda score for c the number of candidates ranked below it\n",
    "            if isinstance(prof, Profile):\n",
    "                borda_score[c] += sum([1 for d in prof.candidates if r.index(c) < r.index(d)])\n",
    "            if isinstance(prof, ProfileWithTies):\n",
    "                borda_score[c] += sum([1 for d in prof.candidates if r.strict_pref(c, d)])\n",
    "\n",
    "    max_borda_score = max(borda_score.values())\n",
    "\n",
    "    return sorted([c for c in prof.candidates if borda_score[c] == max_borda_score])"
   ]
  },
  {
   "cell_type": "code",
   "execution_count": 22,
   "metadata": {},
   "outputs": [
    {
     "data": {
      "application/vnd.jupyter.widget-view+json": {
       "model_id": "05e8b685586d4d198ec77e5b1fb40e74",
       "version_major": 2,
       "version_minor": 0
      },
      "text/plain": [
       "  0%|          | 0/10000 [00:00<?, ?it/s]"
      ]
     },
     "metadata": {},
     "output_type": "display_data"
    },
    {
     "name": "stdout",
     "output_type": "stream",
     "text": [
      "The original profile\n",
      "+---+---+---+\n",
      "| 1 | 1 | 1 |\n",
      "+---+---+---+\n",
      "| 0 | 3 | 2 |\n",
      "| 2 | 2 | 3 |\n",
      "| 3 | 1 | 0 |\n",
      "| 1 | 0 | 1 |\n",
      "+---+---+---+\n",
      "Profile([[0, 2, 3, 1], [3, 2, 1, 0], [2, 3, 0, 1]], rcounts=[1, 1, 1], cmap={0: '0', 1: '1', 2: '2', 3: '3'})\n",
      "Borda for SWOs winner is {2}\n",
      "The profile after adding 0 3 ( 1  2 )  and its reverse ( 1  2 ) 3 0 :\n",
      "+---+---+---+-----+-----+\n",
      "| 1 | 1 | 1 |  1  |  1  |\n",
      "+---+---+---+-----+-----+\n",
      "| 0 | 3 | 2 |  0  | 1 2 |\n",
      "| 2 | 2 | 3 |  3  |  3  |\n",
      "| 3 | 1 | 0 | 1 2 |  0  |\n",
      "| 1 | 0 | 1 |     |     |\n",
      "+---+---+---+-----+-----+\n",
      "ProfileWithTies([{0: 1, 2: 2, 3: 3, 1: 4}, {3: 1, 2: 2, 1: 3, 0: 4}, {2: 1, 3: 2, 0: 3, 1: 4}, {0: 1, 3: 2, 1: 3, 2: 3}, {0: 3, 3: 2, 1: 1, 2: 1}], rcounts=[1, 1, 1, 1, 1], cmap={0: 0, 1: 1, 2: 2, 3: 3})\n",
      "Borda for SWOs winners are {2, 3}\n"
     ]
    }
   ],
   "source": [
    "for n in tqdm(range(10_000)):\n",
    "    prof = generate_profile(4,3)\n",
    "\n",
    "    if has_nonlinear_neutral_reversal_violation(prof, borda_swo, verbose = True):\n",
    "        break"
   ]
  },
  {
   "cell_type": "code",
   "execution_count": 23,
   "metadata": {},
   "outputs": [
    {
     "data": {
      "application/vnd.jupyter.widget-view+json": {
       "model_id": "cff8d6e21c054195ba4fd87093636022",
       "version_major": 2,
       "version_minor": 0
      },
      "text/plain": [
       "  0%|          | 0/10000 [00:00<?, ?it/s]"
      ]
     },
     "metadata": {},
     "output_type": "display_data"
    }
   ],
   "source": [
    "for n in tqdm(range(10_000)):\n",
    "    prof = generate_profile(4,11)\n",
    "\n",
    "    if has_neutral_reversal_violation(prof, borda_swo, verbose = True):\n",
    "        break"
   ]
  },
  {
   "cell_type": "markdown",
   "metadata": {},
   "source": [
    "## Fact 4.5.1"
   ]
  },
  {
   "cell_type": "code",
   "execution_count": 24,
   "metadata": {},
   "outputs": [
    {
     "data": {
      "application/vnd.jupyter.widget-view+json": {
       "model_id": "c5c81fb5943c47b3bbd576aa44f1ba51",
       "version_major": 2,
       "version_minor": 0
      },
      "text/plain": [
       "  0%|          | 0/10000 [00:00<?, ?it/s]"
      ]
     },
     "metadata": {},
     "output_type": "display_data"
    }
   ],
   "source": [
    "for n in tqdm(range(10_000)):\n",
    "    prof = generate_profile(4,11)\n",
    "\n",
    "    if has_neutral_indifference_violation(prof, minimax_winning_votes, verbose = True):\n",
    "        break"
   ]
  },
  {
   "cell_type": "code",
   "execution_count": 25,
   "metadata": {},
   "outputs": [
    {
     "data": {
      "application/vnd.jupyter.widget-view+json": {
       "model_id": "c28aea2d38784d7cad5c55b5e36c45d3",
       "version_major": 2,
       "version_minor": 0
      },
      "text/plain": [
       "  0%|          | 0/10000 [00:00<?, ?it/s]"
      ]
     },
     "metadata": {},
     "output_type": "display_data"
    },
    {
     "name": "stdout",
     "output_type": "stream",
     "text": [
      "The original profile\n",
      "+---+---+---+\n",
      "| 1 | 1 | 1 |\n",
      "+---+---+---+\n",
      "| 1 | 3 | 0 |\n",
      "| 2 | 2 | 1 |\n",
      "| 0 | 0 | 2 |\n",
      "| 3 | 1 | 3 |\n",
      "+---+---+---+\n",
      "Profile([[1, 2, 0, 3], [3, 2, 0, 1], [0, 1, 2, 3]], rcounts=[1, 1, 1], cmap={0: '0', 1: '1', 2: '2', 3: '3'})\n",
      "Minimax (winning votes) winners are {0, 1, 2, 3}\n",
      "The profile after adding 0 3 ( 1  2 )  and its reverse ( 1  2 ) 3 0 :\n",
      "+---+---+---+-----+-----+\n",
      "| 1 | 1 | 1 |  1  |  1  |\n",
      "+---+---+---+-----+-----+\n",
      "| 1 | 3 | 0 |  0  | 1 2 |\n",
      "| 2 | 2 | 1 |  3  |  3  |\n",
      "| 0 | 0 | 2 | 1 2 |  0  |\n",
      "| 3 | 1 | 3 |     |     |\n",
      "+---+---+---+-----+-----+\n",
      "ProfileWithTies([{1: 1, 2: 2, 0: 3, 3: 4}, {3: 1, 2: 2, 0: 3, 1: 4}, {0: 1, 1: 2, 2: 3, 3: 4}, {0: 1, 3: 2, 1: 3, 2: 3}, {0: 3, 3: 2, 1: 1, 2: 1}], rcounts=[1, 1, 1, 1, 1], cmap={0: 0, 1: 1, 2: 2, 3: 3})\n",
      "Minimax (winning votes) winner is {2}\n"
     ]
    }
   ],
   "source": [
    "for n in tqdm(range(10_000)):\n",
    "    prof = generate_profile(4,3)\n",
    "\n",
    "    if has_nonlinear_neutral_reversal_violation(prof, minimax_winning_votes, verbose = True):\n",
    "        break"
   ]
  },
  {
   "cell_type": "markdown",
   "metadata": {},
   "source": [
    "## Fact 4.5.2"
   ]
  },
  {
   "cell_type": "code",
   "execution_count": 26,
   "metadata": {},
   "outputs": [
    {
     "data": {
      "application/vnd.jupyter.widget-view+json": {
       "model_id": "c275484c2a7e4963aa4e026e0a7564c1",
       "version_major": 2,
       "version_minor": 0
      },
      "text/plain": [
       "  0%|          | 0/10000 [00:00<?, ?it/s]"
      ]
     },
     "metadata": {},
     "output_type": "display_data"
    },
    {
     "name": "stdout",
     "output_type": "stream",
     "text": [
      "The original profile\n",
      "+---+---+---+---+\n",
      "| 2 | 1 | 1 | 1 |\n",
      "+---+---+---+---+\n",
      "| 2 | 1 | 3 | 3 |\n",
      "| 0 | 3 | 2 | 0 |\n",
      "| 1 | 0 | 0 | 2 |\n",
      "| 3 | 2 | 1 | 1 |\n",
      "+---+---+---+---+\n",
      "Profile([[2, 0, 1, 3], [1, 3, 0, 2], [3, 2, 0, 1], [2, 0, 1, 3], [3, 0, 2, 1]], rcounts=[1, 1, 1, 1, 1], cmap={0: '0', 1: '1', 2: '2', 3: '3'})\n",
      "BP or RP based on parity of voters winners are {2, 3}\n",
      "The profile after adding a tie ranking:\n",
      "+---+---+---+---+---------+\n",
      "| 2 | 1 | 1 | 1 |    1    |\n",
      "+---+---+---+---+---------+\n",
      "| 2 | 1 | 3 | 3 | 0 1 2 3 |\n",
      "| 0 | 3 | 2 | 0 |         |\n",
      "| 1 | 0 | 0 | 2 |         |\n",
      "| 3 | 2 | 1 | 1 |         |\n",
      "+---+---+---+---+---------+\n",
      "ProfileWithTies([{2: 1, 0: 2, 1: 3, 3: 4}, {1: 1, 3: 2, 0: 3, 2: 4}, {3: 1, 2: 2, 0: 3, 1: 4}, {2: 1, 0: 2, 1: 3, 3: 4}, {3: 1, 0: 2, 2: 3, 1: 4}, {0: 0, 1: 0, 2: 0, 3: 0}], rcounts=[1, 1, 1, 1, 1, 1], cmap={0: 0, 1: 1, 2: 2, 3: 3})\n",
      "BP or RP based on parity of voters winners are {0, 2, 3}\n"
     ]
    }
   ],
   "source": [
    "for n in tqdm(range(10_000)):\n",
    "    prof = generate_profile(4,5)\n",
    "\n",
    "    if has_neutral_indifference_violation(prof, bp_or_rp_parity, verbose = True):\n",
    "        break"
   ]
  },
  {
   "cell_type": "markdown",
   "metadata": {},
   "source": [
    "## Fact 4.8"
   ]
  },
  {
   "cell_type": "code",
   "execution_count": 27,
   "metadata": {},
   "outputs": [],
   "source": [
    "## To be added"
   ]
  }
 ],
 "metadata": {
  "kernelspec": {
   "display_name": "3.11.9",
   "language": "python",
   "name": "python3"
  },
  "language_info": {
   "codemirror_mode": {
    "name": "ipython",
    "version": 3
   },
   "file_extension": ".py",
   "mimetype": "text/x-python",
   "name": "python",
   "nbconvert_exporter": "python",
   "pygments_lexer": "ipython3",
   "version": "3.11.9"
  }
 },
 "nbformat": 4,
 "nbformat_minor": 2
}
