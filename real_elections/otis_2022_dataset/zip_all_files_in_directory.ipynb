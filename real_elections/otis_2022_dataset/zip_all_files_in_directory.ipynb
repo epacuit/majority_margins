{
 "cells": [
  {
   "cell_type": "code",
   "execution_count": 1,
   "id": "9e33ae05",
   "metadata": {},
   "outputs": [
    {
     "name": "stdout",
     "output_type": "stream",
     "text": [
      "Zipped labels_1_5_21_mallows_1_Blacks_optimize.pkl to labels_1_5_21_mallows_1_Blacks_optimize.pkl.zip\n",
      "Zipped labels_1_5_21_mallows_1_Minimax_optimize.pkl to labels_1_5_21_mallows_1_Minimax_optimize.pkl.zip\n",
      "Zipped labels_1_5_11_mallows_1_Plurality_optimize.pkl to labels_1_5_11_mallows_1_Plurality_optimize.pkl.zip\n",
      "Zipped labels_1_5_21_mallows_1_Borda_optimize.pkl to labels_1_5_21_mallows_1_Borda_optimize.pkl.zip\n",
      "Zipped labels_1_5_21_mallows_1_Plurality_optimize.pkl to labels_1_5_21_mallows_1_Plurality_optimize.pkl.zip\n",
      "Zipped labels_1_5_20_mallows_1_Minimax_optimize.pkl to labels_1_5_20_mallows_1_Minimax_optimize.pkl.zip\n",
      "Zipped labels_1_5_20_mallows_1_Blacks_optimize.pkl to labels_1_5_20_mallows_1_Blacks_optimize.pkl.zip\n",
      "Zipped labels_1_5_21_mallows_1_Stable Voting_optimize.pkl to labels_1_5_21_mallows_1_Stable Voting_optimize.pkl.zip\n",
      "Zipped labels_1_5_11_mallows_1_Stable Voting_optimize.pkl to labels_1_5_11_mallows_1_Stable Voting_optimize.pkl.zip\n",
      "Zipped labels_1_5_11_mallows_1_Minimax_optimize.pkl to labels_1_5_11_mallows_1_Minimax_optimize.pkl.zip\n",
      "Zipped labels_1_5_20_mallows_1_Stable Voting_optimize.pkl to labels_1_5_20_mallows_1_Stable Voting_optimize.pkl.zip\n",
      "Zipped labels_1_5_11_mallows_1_Instant Runoff PUT_optimize.pkl to labels_1_5_11_mallows_1_Instant Runoff PUT_optimize.pkl.zip\n",
      "Zipped labels_1_5_20_mallows_1_Split Cycle_optimize.pkl to labels_1_5_20_mallows_1_Split Cycle_optimize.pkl.zip\n",
      "Zipped labels_1_5_21_mallows_1_Strict Nanson_optimize.pkl to labels_1_5_21_mallows_1_Strict Nanson_optimize.pkl.zip\n",
      "Zipped labels_1_5_11_mallows_1_Strict Nanson_optimize.pkl to labels_1_5_11_mallows_1_Strict Nanson_optimize.pkl.zip\n",
      "Zipped labels_1_5_21_mallows_1_Split Cycle_optimize.pkl to labels_1_5_21_mallows_1_Split Cycle_optimize.pkl.zip\n",
      "Zipped labels_1_5_20_mallows_1_Borda_optimize.pkl to labels_1_5_20_mallows_1_Borda_optimize.pkl.zip\n",
      "Zipped labels_1_5_11_mallows_1_Blacks_optimize.pkl to labels_1_5_11_mallows_1_Blacks_optimize.pkl.zip\n",
      "Zipped labels_1_5_11_mallows_1_Borda_optimize.pkl to labels_1_5_11_mallows_1_Borda_optimize.pkl.zip\n",
      "Zipped labels_1_5_11_mallows_1_Instant Runoff_optimize.pkl to labels_1_5_11_mallows_1_Instant Runoff_optimize.pkl.zip\n",
      "Zipped labels_1_5_20_mallows_1_Instant Runoff PUT_optimize.pkl to labels_1_5_20_mallows_1_Instant Runoff PUT_optimize.pkl.zip\n",
      "Zipped labels_1_5_20_mallows_1_Strict Nanson_optimize.pkl to labels_1_5_20_mallows_1_Strict Nanson_optimize.pkl.zip\n",
      "Zipped labels_1_5_11_mallows_1_Split Cycle_optimize.pkl to labels_1_5_11_mallows_1_Split Cycle_optimize.pkl.zip\n",
      "Zipped labels_1_5_20_mallows_1_Plurality_optimize.pkl to labels_1_5_20_mallows_1_Plurality_optimize.pkl.zip\n",
      "Zipped labels_1_5_21_mallows_1_Instant Runoff PUT_optimize.pkl to labels_1_5_21_mallows_1_Instant Runoff PUT_optimize.pkl.zip\n",
      "Zipped labels_1_5_21_mallows_1_Instant Runoff_optimize.pkl to labels_1_5_21_mallows_1_Instant Runoff_optimize.pkl.zip\n",
      "Zipped labels_1_5_20_mallows_1_Instant Runoff_optimize.pkl to labels_1_5_20_mallows_1_Instant Runoff_optimize.pkl.zip\n"
     ]
    }
   ],
   "source": [
    "import zipfile\n",
    "import os\n",
    "\n",
    "for file in os.listdir():\n",
    "    if file.endswith('.pkl'):\n",
    "        with zipfile.ZipFile(file + '.zip', 'w', zipfile.ZIP_DEFLATED) as z:\n",
    "            z.write(file)\n",
    "            print('Zipped', file, 'to', file + '.zip')\n"
   ]
  },
  {
   "cell_type": "code",
   "execution_count": null,
   "id": "a6339834",
   "metadata": {},
   "outputs": [],
   "source": []
  }
 ],
 "metadata": {
  "kernelspec": {
   "display_name": "Python 3.9.9 64-bit",
   "language": "python",
   "name": "python3"
  },
  "language_info": {
   "codemirror_mode": {
    "name": "ipython",
    "version": 3
   },
   "file_extension": ".py",
   "mimetype": "text/x-python",
   "name": "python",
   "nbconvert_exporter": "python",
   "pygments_lexer": "ipython3",
   "version": "3.10.12"
  },
  "vscode": {
   "interpreter": {
    "hash": "b0fa6594d8f4cbf19f97940f81e996739fb7646882a419484c72d19e05852a7e"
   }
  }
 },
 "nbformat": 4,
 "nbformat_minor": 5
}
